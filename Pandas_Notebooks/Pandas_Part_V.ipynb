{
 "cells": [
  {
   "cell_type": "code",
   "execution_count": 1,
   "id": "d2a5ee8f-c6f8-4e5f-a27e-5b32cfd59b8a",
   "metadata": {},
   "outputs": [],
   "source": [
    "import numpy as np\n",
    "import pandas as pd\n",
    "import seaborn as sns\n",
    "import matplotlib.pyplot as plt"
   ]
  },
  {
   "cell_type": "code",
   "execution_count": 2,
   "id": "cf9944f0-f5ba-4047-a32b-eb29097c06dd",
   "metadata": {},
   "outputs": [
    {
     "data": {
      "text/html": [
       "<div>\n",
       "<style scoped>\n",
       "    .dataframe tbody tr th:only-of-type {\n",
       "        vertical-align: middle;\n",
       "    }\n",
       "\n",
       "    .dataframe tbody tr th {\n",
       "        vertical-align: top;\n",
       "    }\n",
       "\n",
       "    .dataframe thead th {\n",
       "        text-align: right;\n",
       "    }\n",
       "</style>\n",
       "<table border=\"1\" class=\"dataframe\">\n",
       "  <thead>\n",
       "    <tr style=\"text-align: right;\">\n",
       "      <th></th>\n",
       "      <th>title</th>\n",
       "      <th>year</th>\n",
       "    </tr>\n",
       "  </thead>\n",
       "  <tbody>\n",
       "    <tr>\n",
       "      <th>0</th>\n",
       "      <td>The Rising Son</td>\n",
       "      <td>1990</td>\n",
       "    </tr>\n",
       "    <tr>\n",
       "      <th>1</th>\n",
       "      <td>The Thousand Plane Raid</td>\n",
       "      <td>1969</td>\n",
       "    </tr>\n",
       "    <tr>\n",
       "      <th>2</th>\n",
       "      <td>Crucea de piatra</td>\n",
       "      <td>1993</td>\n",
       "    </tr>\n",
       "    <tr>\n",
       "      <th>3</th>\n",
       "      <td>Country</td>\n",
       "      <td>2000</td>\n",
       "    </tr>\n",
       "    <tr>\n",
       "      <th>4</th>\n",
       "      <td>Gaiking II</td>\n",
       "      <td>2011</td>\n",
       "    </tr>\n",
       "  </tbody>\n",
       "</table>\n",
       "</div>"
      ],
      "text/plain": [
       "                     title  year\n",
       "0           The Rising Son  1990\n",
       "1  The Thousand Plane Raid  1969\n",
       "2         Crucea de piatra  1993\n",
       "3                  Country  2000\n",
       "4               Gaiking II  2011"
      ]
     },
     "execution_count": 2,
     "metadata": {},
     "output_type": "execute_result"
    }
   ],
   "source": [
    "titles = pd.read_csv('titles.csv', index_col=None)\n",
    "titles.head()"
   ]
  },
  {
   "cell_type": "code",
   "execution_count": 3,
   "id": "a4e1ce54-b648-48d7-9125-cb32e5965d9b",
   "metadata": {},
   "outputs": [
    {
     "data": {
      "text/html": [
       "<div>\n",
       "<style scoped>\n",
       "    .dataframe tbody tr th:only-of-type {\n",
       "        vertical-align: middle;\n",
       "    }\n",
       "\n",
       "    .dataframe tbody tr th {\n",
       "        vertical-align: top;\n",
       "    }\n",
       "\n",
       "    .dataframe thead th {\n",
       "        text-align: right;\n",
       "    }\n",
       "</style>\n",
       "<table border=\"1\" class=\"dataframe\">\n",
       "  <thead>\n",
       "    <tr style=\"text-align: right;\">\n",
       "      <th></th>\n",
       "      <th>title</th>\n",
       "      <th>year</th>\n",
       "      <th>name</th>\n",
       "      <th>type</th>\n",
       "      <th>character</th>\n",
       "      <th>n</th>\n",
       "    </tr>\n",
       "  </thead>\n",
       "  <tbody>\n",
       "    <tr>\n",
       "      <th>0</th>\n",
       "      <td>Closet Monster</td>\n",
       "      <td>2015</td>\n",
       "      <td>Buffy #1</td>\n",
       "      <td>actor</td>\n",
       "      <td>Buffy 4</td>\n",
       "      <td>NaN</td>\n",
       "    </tr>\n",
       "    <tr>\n",
       "      <th>1</th>\n",
       "      <td>Suuri illusioni</td>\n",
       "      <td>1985</td>\n",
       "      <td>Homo $</td>\n",
       "      <td>actor</td>\n",
       "      <td>Guests</td>\n",
       "      <td>22.0</td>\n",
       "    </tr>\n",
       "    <tr>\n",
       "      <th>2</th>\n",
       "      <td>Battle of the Sexes</td>\n",
       "      <td>2017</td>\n",
       "      <td>$hutter</td>\n",
       "      <td>actor</td>\n",
       "      <td>Bobby Riggs Fan</td>\n",
       "      <td>10.0</td>\n",
       "    </tr>\n",
       "    <tr>\n",
       "      <th>3</th>\n",
       "      <td>Secret in Their Eyes</td>\n",
       "      <td>2015</td>\n",
       "      <td>$hutter</td>\n",
       "      <td>actor</td>\n",
       "      <td>2002 Dodger Fan</td>\n",
       "      <td>NaN</td>\n",
       "    </tr>\n",
       "    <tr>\n",
       "      <th>4</th>\n",
       "      <td>Steve Jobs</td>\n",
       "      <td>2015</td>\n",
       "      <td>$hutter</td>\n",
       "      <td>actor</td>\n",
       "      <td>1988 Opera House Patron</td>\n",
       "      <td>NaN</td>\n",
       "    </tr>\n",
       "  </tbody>\n",
       "</table>\n",
       "</div>"
      ],
      "text/plain": [
       "                  title  year      name   type                character     n\n",
       "0        Closet Monster  2015  Buffy #1  actor                  Buffy 4   NaN\n",
       "1       Suuri illusioni  1985    Homo $  actor                   Guests  22.0\n",
       "2   Battle of the Sexes  2017   $hutter  actor          Bobby Riggs Fan  10.0\n",
       "3  Secret in Their Eyes  2015   $hutter  actor          2002 Dodger Fan   NaN\n",
       "4            Steve Jobs  2015   $hutter  actor  1988 Opera House Patron   NaN"
      ]
     },
     "execution_count": 3,
     "metadata": {},
     "output_type": "execute_result"
    }
   ],
   "source": [
    "cast = pd.read_csv('cast.csv', index_col=None)\n",
    "cast.head()"
   ]
  },
  {
   "cell_type": "markdown",
   "id": "20dae9c1-de6e-44fd-bf43-378a85fd60d0",
   "metadata": {},
   "source": [
    "## Define a year as a \"Superman year\" whose films feature more Superman characters than Batman. How many years in film history have been Superman years?"
   ]
  },
  {
   "cell_type": "code",
   "execution_count": 4,
   "id": "6c82b6dd-7255-4ed0-99bb-819574cb8514",
   "metadata": {},
   "outputs": [],
   "source": [
    "# Filter for years with Superman characters\n",
    "\n",
    "Superman = cast[cast['character'].str.contains('Superman')]\n",
    "\n",
    "# Filter for years with Batman characters\n",
    "\n",
    "Batman = cast[cast['character'].str.contains('Batman')]\n",
    "\n",
    "# Merge both dataframes into one using inner merge\n",
    "\n",
    "Superman_year = pd.merge(Superman, Batman, on='year', how='inner')"
   ]
  },
  {
   "cell_type": "code",
   "execution_count": 5,
   "id": "c492e186-9bb9-4abd-9efa-f2f49cd588e4",
   "metadata": {},
   "outputs": [
    {
     "name": "stdout",
     "output_type": "stream",
     "text": [
      "(251, 11)\n"
     ]
    }
   ],
   "source": [
    "print(Superman_year.shape)"
   ]
  },
  {
   "cell_type": "code",
   "execution_count": 6,
   "id": "e3b271fe-5267-42d1-b66a-e403a08a4e92",
   "metadata": {},
   "outputs": [],
   "source": [
    "# Groupby year with aggregate counts\n",
    "\n",
    "Superman_year = Superman_year.groupby(Superman_year.year).agg(['count'])"
   ]
  },
  {
   "cell_type": "code",
   "execution_count": 7,
   "id": "3f84b7c4-fe13-4a6c-8786-e119c3dfbc27",
   "metadata": {},
   "outputs": [],
   "source": [
    "# Define the Superman year with more Superman characters than Batman characters\n",
    "\n",
    "Superman_year = Superman_year['n_x'] > Superman_year['n_y']"
   ]
  },
  {
   "cell_type": "code",
   "execution_count": 8,
   "id": "40727974-b3e9-48ea-a2d1-90c5e0ee1b0b",
   "metadata": {},
   "outputs": [
    {
     "data": {
      "text/plain": [
       "count\n",
       "True     8\n",
       "dtype: int64"
      ]
     },
     "execution_count": 8,
     "metadata": {},
     "output_type": "execute_result"
    }
   ],
   "source": [
    "# Filter for Superman Years and get count\n",
    "\n",
    "Superman_year[Superman_year['count'] == True].value_counts()"
   ]
  },
  {
   "cell_type": "markdown",
   "id": "6353cea9-2342-4467-a4c7-00cf54fe4484",
   "metadata": {},
   "source": [
    "## How many years have been \"Batman years\", with more Batman characters than Superman characters?"
   ]
  },
  {
   "cell_type": "code",
   "execution_count": 9,
   "id": "1abed98c-35ba-4133-97ed-d6ac1b5fc31c",
   "metadata": {},
   "outputs": [
    {
     "name": "stdout",
     "output_type": "stream",
     "text": [
      "(251, 11)\n"
     ]
    },
    {
     "data": {
      "text/plain": [
       "count\n",
       "True     9\n",
       "dtype: int64"
      ]
     },
     "execution_count": 9,
     "metadata": {},
     "output_type": "execute_result"
    }
   ],
   "source": [
    "# Merge both dataframes into one using inner merge\n",
    "\n",
    "Batman_year = pd.merge(Batman, Superman, on='year', how='inner')\n",
    "\n",
    "print(Batman_year.shape)\n",
    "\n",
    "# Groupby year with aggregate counts\n",
    "\n",
    "Batman_year = Batman_year.groupby(Batman_year.year).agg(['count'])\n",
    "\n",
    "# Define the Batman year with more Batman characters than Superman characters\n",
    "\n",
    "Batman_year = Batman_year.n_x > Batman_year.n_y\n",
    "\n",
    "# Filter for Batman years and get count\n",
    "\n",
    "Batman_year[Batman_year['count'] == True].value_counts()"
   ]
  },
  {
   "cell_type": "markdown",
   "id": "30c5290e-6b8c-4877-9f56-8745edf004cd",
   "metadata": {},
   "source": [
    "## Count the number of actor roles for each year and the number of actress roles for each year over the history of film."
   ]
  },
  {
   "cell_type": "code",
   "execution_count": 10,
   "id": "d38556d5-c3d1-47d7-bb81-abc4323dced2",
   "metadata": {},
   "outputs": [
    {
     "data": {
      "text/html": [
       "<div>\n",
       "<style scoped>\n",
       "    .dataframe tbody tr th:only-of-type {\n",
       "        vertical-align: middle;\n",
       "    }\n",
       "\n",
       "    .dataframe tbody tr th {\n",
       "        vertical-align: top;\n",
       "    }\n",
       "\n",
       "    .dataframe thead th {\n",
       "        text-align: right;\n",
       "    }\n",
       "</style>\n",
       "<table border=\"1\" class=\"dataframe\">\n",
       "  <thead>\n",
       "    <tr style=\"text-align: right;\">\n",
       "      <th></th>\n",
       "      <th>title</th>\n",
       "      <th>year</th>\n",
       "      <th>name</th>\n",
       "      <th>type</th>\n",
       "      <th>character</th>\n",
       "      <th>n</th>\n",
       "    </tr>\n",
       "  </thead>\n",
       "  <tbody>\n",
       "    <tr>\n",
       "      <th>0</th>\n",
       "      <td>Closet Monster</td>\n",
       "      <td>2015</td>\n",
       "      <td>Buffy #1</td>\n",
       "      <td>actor</td>\n",
       "      <td>Buffy 4</td>\n",
       "      <td>NaN</td>\n",
       "    </tr>\n",
       "    <tr>\n",
       "      <th>1</th>\n",
       "      <td>Suuri illusioni</td>\n",
       "      <td>1985</td>\n",
       "      <td>Homo $</td>\n",
       "      <td>actor</td>\n",
       "      <td>Guests</td>\n",
       "      <td>22.0</td>\n",
       "    </tr>\n",
       "    <tr>\n",
       "      <th>2</th>\n",
       "      <td>Battle of the Sexes</td>\n",
       "      <td>2017</td>\n",
       "      <td>$hutter</td>\n",
       "      <td>actor</td>\n",
       "      <td>Bobby Riggs Fan</td>\n",
       "      <td>10.0</td>\n",
       "    </tr>\n",
       "    <tr>\n",
       "      <th>3</th>\n",
       "      <td>Secret in Their Eyes</td>\n",
       "      <td>2015</td>\n",
       "      <td>$hutter</td>\n",
       "      <td>actor</td>\n",
       "      <td>2002 Dodger Fan</td>\n",
       "      <td>NaN</td>\n",
       "    </tr>\n",
       "    <tr>\n",
       "      <th>4</th>\n",
       "      <td>Steve Jobs</td>\n",
       "      <td>2015</td>\n",
       "      <td>$hutter</td>\n",
       "      <td>actor</td>\n",
       "      <td>1988 Opera House Patron</td>\n",
       "      <td>NaN</td>\n",
       "    </tr>\n",
       "  </tbody>\n",
       "</table>\n",
       "</div>"
      ],
      "text/plain": [
       "                  title  year      name   type                character     n\n",
       "0        Closet Monster  2015  Buffy #1  actor                  Buffy 4   NaN\n",
       "1       Suuri illusioni  1985    Homo $  actor                   Guests  22.0\n",
       "2   Battle of the Sexes  2017   $hutter  actor          Bobby Riggs Fan  10.0\n",
       "3  Secret in Their Eyes  2015   $hutter  actor          2002 Dodger Fan   NaN\n",
       "4            Steve Jobs  2015   $hutter  actor  1988 Opera House Patron   NaN"
      ]
     },
     "execution_count": 10,
     "metadata": {},
     "output_type": "execute_result"
    }
   ],
   "source": [
    "cast.head()"
   ]
  },
  {
   "cell_type": "code",
   "execution_count": 11,
   "id": "712ef6f7-3e37-4d18-b04b-bda3373d34e4",
   "metadata": {},
   "outputs": [
    {
     "data": {
      "text/plain": [
       "actor      2455335\n",
       "actress    1179132\n",
       "Name: type, dtype: int64"
      ]
     },
     "execution_count": 11,
     "metadata": {},
     "output_type": "execute_result"
    }
   ],
   "source": [
    "# Total number of actors vs actresses\n",
    "\n",
    "cast.type.value_counts()"
   ]
  },
  {
   "cell_type": "code",
   "execution_count": 12,
   "id": "2a442148-4a75-4fb9-9b92-9efd1d3a3953",
   "metadata": {},
   "outputs": [],
   "source": [
    "# Filter cast table for actors\n",
    "\n",
    "actor = cast[cast['type'] == 'actor']\n",
    "\n",
    "# Filter cast table for actresses\n",
    "\n",
    "actress = cast[cast['type'] == 'actress']"
   ]
  },
  {
   "cell_type": "code",
   "execution_count": 18,
   "id": "febedc31-a241-4c52-bedb-55993cf75748",
   "metadata": {},
   "outputs": [],
   "source": [
    "# Groupby actors table\n",
    "\n",
    "actor_counts = actor.groupby('year').agg({'type':'count'}).sort_values('year', ascending=True)"
   ]
  },
  {
   "cell_type": "code",
   "execution_count": 19,
   "id": "833d4587-e680-49a0-93ea-af10cfa5ec45",
   "metadata": {},
   "outputs": [],
   "source": [
    "# Groupby actresses table\n",
    "\n",
    "actress_counts = actress.groupby('year').agg({'type':'count'}).sort_values('year', ascending=True)"
   ]
  },
  {
   "cell_type": "code",
   "execution_count": 22,
   "id": "1289a985-bb36-4b1e-be66-0e760d48dee4",
   "metadata": {},
   "outputs": [],
   "source": [
    "# Rename Columns\n",
    "\n",
    "actor_counts = actor_counts.rename(columns={'type': 'actors'})\n",
    "actress_counts = actress_counts.rename(columns={'type': 'actresses'})"
   ]
  },
  {
   "cell_type": "code",
   "execution_count": 46,
   "id": "c445ee70-4730-4a02-9624-8dcb7a3e0cfb",
   "metadata": {},
   "outputs": [
    {
     "data": {
      "text/html": [
       "<div>\n",
       "<style scoped>\n",
       "    .dataframe tbody tr th:only-of-type {\n",
       "        vertical-align: middle;\n",
       "    }\n",
       "\n",
       "    .dataframe tbody tr th {\n",
       "        vertical-align: top;\n",
       "    }\n",
       "\n",
       "    .dataframe thead th {\n",
       "        text-align: right;\n",
       "    }\n",
       "</style>\n",
       "<table border=\"1\" class=\"dataframe\">\n",
       "  <thead>\n",
       "    <tr style=\"text-align: right;\">\n",
       "      <th></th>\n",
       "      <th>actors</th>\n",
       "      <th>actresses</th>\n",
       "    </tr>\n",
       "    <tr>\n",
       "      <th>year</th>\n",
       "      <th></th>\n",
       "      <th></th>\n",
       "    </tr>\n",
       "  </thead>\n",
       "  <tbody>\n",
       "    <tr>\n",
       "      <th>1894</th>\n",
       "      <td>2</td>\n",
       "      <td>1</td>\n",
       "    </tr>\n",
       "    <tr>\n",
       "      <th>1900</th>\n",
       "      <td>2</td>\n",
       "      <td>0</td>\n",
       "    </tr>\n",
       "    <tr>\n",
       "      <th>1905</th>\n",
       "      <td>1</td>\n",
       "      <td>0</td>\n",
       "    </tr>\n",
       "    <tr>\n",
       "      <th>1906</th>\n",
       "      <td>14</td>\n",
       "      <td>3</td>\n",
       "    </tr>\n",
       "    <tr>\n",
       "      <th>1907</th>\n",
       "      <td>5</td>\n",
       "      <td>0</td>\n",
       "    </tr>\n",
       "    <tr>\n",
       "      <th>...</th>\n",
       "      <td>...</td>\n",
       "      <td>...</td>\n",
       "    </tr>\n",
       "    <tr>\n",
       "      <th>2021</th>\n",
       "      <td>9</td>\n",
       "      <td>4</td>\n",
       "    </tr>\n",
       "    <tr>\n",
       "      <th>2022</th>\n",
       "      <td>18</td>\n",
       "      <td>11</td>\n",
       "    </tr>\n",
       "    <tr>\n",
       "      <th>2023</th>\n",
       "      <td>6</td>\n",
       "      <td>5</td>\n",
       "    </tr>\n",
       "    <tr>\n",
       "      <th>2025</th>\n",
       "      <td>2</td>\n",
       "      <td>0</td>\n",
       "    </tr>\n",
       "    <tr>\n",
       "      <th>2026</th>\n",
       "      <td>1</td>\n",
       "      <td>0</td>\n",
       "    </tr>\n",
       "  </tbody>\n",
       "</table>\n",
       "<p>123 rows × 2 columns</p>\n",
       "</div>"
      ],
      "text/plain": [
       "      actors  actresses\n",
       "year                   \n",
       "1894       2          1\n",
       "1900       2          0\n",
       "1905       1          0\n",
       "1906      14          3\n",
       "1907       5          0\n",
       "...      ...        ...\n",
       "2021       9          4\n",
       "2022      18         11\n",
       "2023       6          5\n",
       "2025       2          0\n",
       "2026       1          0\n",
       "\n",
       "[123 rows x 2 columns]"
      ]
     },
     "execution_count": 46,
     "metadata": {},
     "output_type": "execute_result"
    }
   ],
   "source": [
    "# Concatenate Actors and Actresses dataframes\n",
    "\n",
    "Roles = pd.concat([actor_counts, actress_counts], axis=1)\n",
    "\n",
    "# Impute missing values with 0\n",
    "\n",
    "Roles = Roles.fillna(0)\n",
    "\n",
    "Roles.actresses = Roles.actresses.astype(int)\n",
    "\n",
    "Roles"
   ]
  },
  {
   "cell_type": "code",
   "execution_count": 47,
   "id": "efd6bfc5-66c0-44b3-916b-d2802f073b9e",
   "metadata": {},
   "outputs": [
    {
     "data": {
      "text/plain": [
       "Text(0, 0.5, 'Count')"
      ]
     },
     "execution_count": 47,
     "metadata": {},
     "output_type": "execute_result"
    },
    {
     "data": {
      "image/png": "[encoded data removed]",
      "text/plain": [
       "<Figure size 640x480 with 1 Axes>"
      ]
     },
     "metadata": {},
     "output_type": "display_data"
    }
   ],
   "source": [
    "# Plot the counts\n",
    "\n",
    "sns.set_theme(style='darkgrid', context='talk')\n",
    "\n",
    "Roles[::5].plot(kind='bar', stacked=True, color=['skyblue', 'green'])\n",
    "\n",
    "plt.xlabel('Years')\n",
    "plt.ylabel('Count')"
   ]
  },
  {
   "cell_type": "markdown",
   "id": "f76716b8-307c-4f05-a1a4-1dbf6dc05da8",
   "metadata": {},
   "source": [
    "## Find the difference between the number of actor roles and the number of actress roles for each year over the history of film."
   ]
  },
  {
   "cell_type": "code",
   "execution_count": 49,
   "id": "ab1b5383-77a3-48ac-988d-7c339255518c",
   "metadata": {},
   "outputs": [],
   "source": [
    "# Subtract the total actors from the total actresses by year\n",
    "\n",
    "Roles['Difference'] = Roles['actors'] - Roles['actresses']"
   ]
  },
  {
   "cell_type": "code",
   "execution_count": 57,
   "id": "60852877-8bf6-4fa8-8214-7d79bcb13f45",
   "metadata": {},
   "outputs": [
    {
     "data": {
      "text/plain": [
       "year\n",
       "1894     1\n",
       "1900     2\n",
       "1905     1\n",
       "1906    11\n",
       "1907     5\n",
       "        ..\n",
       "2021     5\n",
       "2022     7\n",
       "2023     1\n",
       "2025     2\n",
       "2026     1\n",
       "Name: Difference, Length: 123, dtype: int64"
      ]
     },
     "execution_count": 57,
     "metadata": {},
     "output_type": "execute_result"
    }
   ],
   "source": [
    "Roles.Difference"
   ]
  },
  {
   "cell_type": "code",
   "execution_count": 56,
   "id": "fd5768c3-078b-4ff5-983a-fe65b9625c98",
   "metadata": {},
   "outputs": [
    {
     "data": {
      "text/plain": [
       "<AxesSubplot: xlabel='year'>"
      ]
     },
     "execution_count": 56,
     "metadata": {},
     "output_type": "execute_result"
    },
    {
     "data": {
      "image/png": "[encoded data removed]",
      "text/plain": [
       "<Figure size 640x480 with 1 Axes>"
      ]
     },
     "metadata": {},
     "output_type": "display_data"
    }
   ],
   "source": [
    "# Plot the differences by year\n",
    "\n",
    "sns.set_theme(style='darkgrid', context='talk')\n",
    "\n",
    "Roles[::10].plot(kind='bar', color=['skyblue', 'green', 'red'])"
   ]
  },
  {
   "cell_type": "markdown",
   "id": "cf783b08-af6f-43b6-92ec-44b194fe4c53",
   "metadata": {},
   "source": [
    "## What is the proportion of roles that have been 'actor' roles for each year in the history of film."
   ]
  },
  {
   "cell_type": "code",
   "execution_count": 60,
   "id": "02a1adf8-d0fa-4d6c-953c-3becc8165f34",
   "metadata": {},
   "outputs": [
    {
     "data": {
      "text/html": [
       "<div>\n",
       "<style scoped>\n",
       "    .dataframe tbody tr th:only-of-type {\n",
       "        vertical-align: middle;\n",
       "    }\n",
       "\n",
       "    .dataframe tbody tr th {\n",
       "        vertical-align: top;\n",
       "    }\n",
       "\n",
       "    .dataframe thead th {\n",
       "        text-align: right;\n",
       "    }\n",
       "</style>\n",
       "<table border=\"1\" class=\"dataframe\">\n",
       "  <thead>\n",
       "    <tr style=\"text-align: right;\">\n",
       "      <th></th>\n",
       "      <th>actors</th>\n",
       "      <th>actresses</th>\n",
       "      <th>Difference</th>\n",
       "      <th>actor proportion</th>\n",
       "      <th>actress proportion</th>\n",
       "    </tr>\n",
       "    <tr>\n",
       "      <th>year</th>\n",
       "      <th></th>\n",
       "      <th></th>\n",
       "      <th></th>\n",
       "      <th></th>\n",
       "      <th></th>\n",
       "    </tr>\n",
       "  </thead>\n",
       "  <tbody>\n",
       "    <tr>\n",
       "      <th>1894</th>\n",
       "      <td>2</td>\n",
       "      <td>1</td>\n",
       "      <td>1</td>\n",
       "      <td>0.666667</td>\n",
       "      <td>0.333333</td>\n",
       "    </tr>\n",
       "    <tr>\n",
       "      <th>1900</th>\n",
       "      <td>2</td>\n",
       "      <td>0</td>\n",
       "      <td>2</td>\n",
       "      <td>1.000000</td>\n",
       "      <td>0.000000</td>\n",
       "    </tr>\n",
       "    <tr>\n",
       "      <th>1905</th>\n",
       "      <td>1</td>\n",
       "      <td>0</td>\n",
       "      <td>1</td>\n",
       "      <td>1.000000</td>\n",
       "      <td>0.000000</td>\n",
       "    </tr>\n",
       "    <tr>\n",
       "      <th>1906</th>\n",
       "      <td>14</td>\n",
       "      <td>3</td>\n",
       "      <td>11</td>\n",
       "      <td>0.823529</td>\n",
       "      <td>0.176471</td>\n",
       "    </tr>\n",
       "    <tr>\n",
       "      <th>1907</th>\n",
       "      <td>5</td>\n",
       "      <td>0</td>\n",
       "      <td>5</td>\n",
       "      <td>1.000000</td>\n",
       "      <td>0.000000</td>\n",
       "    </tr>\n",
       "    <tr>\n",
       "      <th>...</th>\n",
       "      <td>...</td>\n",
       "      <td>...</td>\n",
       "      <td>...</td>\n",
       "      <td>...</td>\n",
       "      <td>...</td>\n",
       "    </tr>\n",
       "    <tr>\n",
       "      <th>2021</th>\n",
       "      <td>9</td>\n",
       "      <td>4</td>\n",
       "      <td>5</td>\n",
       "      <td>0.692308</td>\n",
       "      <td>0.307692</td>\n",
       "    </tr>\n",
       "    <tr>\n",
       "      <th>2022</th>\n",
       "      <td>18</td>\n",
       "      <td>11</td>\n",
       "      <td>7</td>\n",
       "      <td>0.620690</td>\n",
       "      <td>0.379310</td>\n",
       "    </tr>\n",
       "    <tr>\n",
       "      <th>2023</th>\n",
       "      <td>6</td>\n",
       "      <td>5</td>\n",
       "      <td>1</td>\n",
       "      <td>0.545455</td>\n",
       "      <td>0.454545</td>\n",
       "    </tr>\n",
       "    <tr>\n",
       "      <th>2025</th>\n",
       "      <td>2</td>\n",
       "      <td>0</td>\n",
       "      <td>2</td>\n",
       "      <td>1.000000</td>\n",
       "      <td>0.000000</td>\n",
       "    </tr>\n",
       "    <tr>\n",
       "      <th>2026</th>\n",
       "      <td>1</td>\n",
       "      <td>0</td>\n",
       "      <td>1</td>\n",
       "      <td>1.000000</td>\n",
       "      <td>0.000000</td>\n",
       "    </tr>\n",
       "  </tbody>\n",
       "</table>\n",
       "<p>123 rows × 5 columns</p>\n",
       "</div>"
      ],
      "text/plain": [
       "      actors  actresses  Difference  actor proportion  actress proportion\n",
       "year                                                                     \n",
       "1894       2          1           1          0.666667            0.333333\n",
       "1900       2          0           2          1.000000            0.000000\n",
       "1905       1          0           1          1.000000            0.000000\n",
       "1906      14          3          11          0.823529            0.176471\n",
       "1907       5          0           5          1.000000            0.000000\n",
       "...      ...        ...         ...               ...                 ...\n",
       "2021       9          4           5          0.692308            0.307692\n",
       "2022      18         11           7          0.620690            0.379310\n",
       "2023       6          5           1          0.545455            0.454545\n",
       "2025       2          0           2          1.000000            0.000000\n",
       "2026       1          0           1          1.000000            0.000000\n",
       "\n",
       "[123 rows x 5 columns]"
      ]
     },
     "execution_count": 60,
     "metadata": {},
     "output_type": "execute_result"
    }
   ],
   "source": [
    "# Create new columns with actor and actress proportions per year\n",
    "\n",
    "Roles['actor proportion'] = Roles.actors/(Roles.actors + Roles.actresses)\n",
    "Roles['actress proportion'] = Roles.actresses/(Roles.actresses + Roles.actors)\n",
    "\n",
    "Roles"
   ]
  },
  {
   "cell_type": "markdown",
   "id": "b819853b-e206-4479-8e94-a0474bf1914d",
   "metadata": {},
   "source": [
    "## What is the proportion of supporting (n=2) roles that have been 'actor' roles for each year in the history of film."
   ]
  },
  {
   "cell_type": "code",
   "execution_count": 72,
   "id": "4d40ffe0-7dfa-493c-931f-d32f3c0c0079",
   "metadata": {},
   "outputs": [
    {
     "data": {
      "text/html": [
       "<div>\n",
       "<style scoped>\n",
       "    .dataframe tbody tr th:only-of-type {\n",
       "        vertical-align: middle;\n",
       "    }\n",
       "\n",
       "    .dataframe tbody tr th {\n",
       "        vertical-align: top;\n",
       "    }\n",
       "\n",
       "    .dataframe thead th {\n",
       "        text-align: right;\n",
       "    }\n",
       "</style>\n",
       "<table border=\"1\" class=\"dataframe\">\n",
       "  <thead>\n",
       "    <tr style=\"text-align: right;\">\n",
       "      <th></th>\n",
       "      <th>Male Supporting Roles</th>\n",
       "      <th>Female Supporting Roles</th>\n",
       "    </tr>\n",
       "    <tr>\n",
       "      <th>year</th>\n",
       "      <th></th>\n",
       "      <th></th>\n",
       "    </tr>\n",
       "  </thead>\n",
       "  <tbody>\n",
       "    <tr>\n",
       "      <th>1906</th>\n",
       "      <td>2</td>\n",
       "      <td>1</td>\n",
       "    </tr>\n",
       "    <tr>\n",
       "      <th>1907</th>\n",
       "      <td>1</td>\n",
       "      <td>0</td>\n",
       "    </tr>\n",
       "    <tr>\n",
       "      <th>1908</th>\n",
       "      <td>2</td>\n",
       "      <td>0</td>\n",
       "    </tr>\n",
       "    <tr>\n",
       "      <th>1910</th>\n",
       "      <td>2</td>\n",
       "      <td>2</td>\n",
       "    </tr>\n",
       "    <tr>\n",
       "      <th>1911</th>\n",
       "      <td>14</td>\n",
       "      <td>5</td>\n",
       "    </tr>\n",
       "    <tr>\n",
       "      <th>...</th>\n",
       "      <td>...</td>\n",
       "      <td>...</td>\n",
       "    </tr>\n",
       "    <tr>\n",
       "      <th>2016</th>\n",
       "      <td>2337</td>\n",
       "      <td>1823</td>\n",
       "    </tr>\n",
       "    <tr>\n",
       "      <th>2017</th>\n",
       "      <td>883</td>\n",
       "      <td>643</td>\n",
       "    </tr>\n",
       "    <tr>\n",
       "      <th>2018</th>\n",
       "      <td>41</td>\n",
       "      <td>30</td>\n",
       "    </tr>\n",
       "    <tr>\n",
       "      <th>2019</th>\n",
       "      <td>7</td>\n",
       "      <td>2</td>\n",
       "    </tr>\n",
       "    <tr>\n",
       "      <th>2020</th>\n",
       "      <td>1</td>\n",
       "      <td>2</td>\n",
       "    </tr>\n",
       "  </tbody>\n",
       "</table>\n",
       "<p>114 rows × 2 columns</p>\n",
       "</div>"
      ],
      "text/plain": [
       "      Male Supporting Roles  Female Supporting Roles\n",
       "year                                                \n",
       "1906                      2                        1\n",
       "1907                      1                        0\n",
       "1908                      2                        0\n",
       "1910                      2                        2\n",
       "1911                     14                        5\n",
       "...                     ...                      ...\n",
       "2016                   2337                     1823\n",
       "2017                    883                      643\n",
       "2018                     41                       30\n",
       "2019                      7                        2\n",
       "2020                      1                        2\n",
       "\n",
       "[114 rows x 2 columns]"
      ]
     },
     "execution_count": 72,
     "metadata": {},
     "output_type": "execute_result"
    }
   ],
   "source": [
    "# Filter cast dataframe for all n=2 supporting roles\n",
    "\n",
    "Supporting_role = cast[cast['n'] == 2]\n",
    "\n",
    "# Filter further for only male and female supporting roles\n",
    "\n",
    "Male_supporting_role = Supporting_role[Supporting_role['type'] == 'actor']\n",
    "Female_supporting_role = Supporting_role[Supporting_role['type'] == 'actress']\n",
    "\n",
    "# Group by year and sort values by ascending\n",
    "\n",
    "Male_counts = Male_supporting_role.groupby('year').agg({'type':'count'}).sort_values('year', ascending=True)\n",
    "Female_counts = Female_supporting_role.groupby('year').agg({'type':'count'}).sort_values('year', ascending=True)\n",
    "\n",
    "# Rename columns to avoid matching column names\n",
    "\n",
    "Male_counts = Male_counts.rename(columns={'type': 'Male Supporting Roles'})\n",
    "Female_counts = Female_counts.rename(columns={'type': 'Female Supporting Roles'})\n",
    "\n",
    "# Concatenate both Dataframes\n",
    "\n",
    "Supporting_Roles = pd.concat([Male_counts, Female_counts], axis=1)\n",
    "\n",
    "# Impute missing values with zeroes\n",
    "\n",
    "Supporting_Roles = Supporting_Roles.fillna(0)\n",
    "\n",
    "# Convert Female Supporting Roles to type integer\n",
    "\n",
    "Supporting_Roles['Female Supporting Roles'] = Supporting_Roles['Female Supporting Roles'].astype(int)\n",
    "\n",
    "Supporting_Roles"
   ]
  },
  {
   "cell_type": "code",
   "execution_count": 77,
   "id": "cba6e460-9718-4c2f-9bad-b51dd6a3bebd",
   "metadata": {},
   "outputs": [
    {
     "data": {
      "text/html": [
       "<div>\n",
       "<style scoped>\n",
       "    .dataframe tbody tr th:only-of-type {\n",
       "        vertical-align: middle;\n",
       "    }\n",
       "\n",
       "    .dataframe tbody tr th {\n",
       "        vertical-align: top;\n",
       "    }\n",
       "\n",
       "    .dataframe thead th {\n",
       "        text-align: right;\n",
       "    }\n",
       "</style>\n",
       "<table border=\"1\" class=\"dataframe\">\n",
       "  <thead>\n",
       "    <tr style=\"text-align: right;\">\n",
       "      <th></th>\n",
       "      <th>Male Supporting Roles</th>\n",
       "      <th>Female Supporting Roles</th>\n",
       "      <th>Male Proportions</th>\n",
       "      <th>Female Proportions</th>\n",
       "    </tr>\n",
       "    <tr>\n",
       "      <th>year</th>\n",
       "      <th></th>\n",
       "      <th></th>\n",
       "      <th></th>\n",
       "      <th></th>\n",
       "    </tr>\n",
       "  </thead>\n",
       "  <tbody>\n",
       "    <tr>\n",
       "      <th>1906</th>\n",
       "      <td>2</td>\n",
       "      <td>1</td>\n",
       "      <td>0.666667</td>\n",
       "      <td>0.333333</td>\n",
       "    </tr>\n",
       "    <tr>\n",
       "      <th>1907</th>\n",
       "      <td>1</td>\n",
       "      <td>0</td>\n",
       "      <td>1.000000</td>\n",
       "      <td>0.000000</td>\n",
       "    </tr>\n",
       "    <tr>\n",
       "      <th>1908</th>\n",
       "      <td>2</td>\n",
       "      <td>0</td>\n",
       "      <td>1.000000</td>\n",
       "      <td>0.000000</td>\n",
       "    </tr>\n",
       "    <tr>\n",
       "      <th>1910</th>\n",
       "      <td>2</td>\n",
       "      <td>2</td>\n",
       "      <td>0.500000</td>\n",
       "      <td>0.500000</td>\n",
       "    </tr>\n",
       "    <tr>\n",
       "      <th>1911</th>\n",
       "      <td>14</td>\n",
       "      <td>5</td>\n",
       "      <td>0.736842</td>\n",
       "      <td>0.263158</td>\n",
       "    </tr>\n",
       "    <tr>\n",
       "      <th>...</th>\n",
       "      <td>...</td>\n",
       "      <td>...</td>\n",
       "      <td>...</td>\n",
       "      <td>...</td>\n",
       "    </tr>\n",
       "    <tr>\n",
       "      <th>2016</th>\n",
       "      <td>2337</td>\n",
       "      <td>1823</td>\n",
       "      <td>0.561779</td>\n",
       "      <td>0.438221</td>\n",
       "    </tr>\n",
       "    <tr>\n",
       "      <th>2017</th>\n",
       "      <td>883</td>\n",
       "      <td>643</td>\n",
       "      <td>0.578637</td>\n",
       "      <td>0.421363</td>\n",
       "    </tr>\n",
       "    <tr>\n",
       "      <th>2018</th>\n",
       "      <td>41</td>\n",
       "      <td>30</td>\n",
       "      <td>0.577465</td>\n",
       "      <td>0.422535</td>\n",
       "    </tr>\n",
       "    <tr>\n",
       "      <th>2019</th>\n",
       "      <td>7</td>\n",
       "      <td>2</td>\n",
       "      <td>0.777778</td>\n",
       "      <td>0.222222</td>\n",
       "    </tr>\n",
       "    <tr>\n",
       "      <th>2020</th>\n",
       "      <td>1</td>\n",
       "      <td>2</td>\n",
       "      <td>0.333333</td>\n",
       "      <td>0.666667</td>\n",
       "    </tr>\n",
       "  </tbody>\n",
       "</table>\n",
       "<p>114 rows × 4 columns</p>\n",
       "</div>"
      ],
      "text/plain": [
       "      Male Supporting Roles  Female Supporting Roles  Male Proportions  \\\n",
       "year                                                                     \n",
       "1906                      2                        1          0.666667   \n",
       "1907                      1                        0          1.000000   \n",
       "1908                      2                        0          1.000000   \n",
       "1910                      2                        2          0.500000   \n",
       "1911                     14                        5          0.736842   \n",
       "...                     ...                      ...               ...   \n",
       "2016                   2337                     1823          0.561779   \n",
       "2017                    883                      643          0.578637   \n",
       "2018                     41                       30          0.577465   \n",
       "2019                      7                        2          0.777778   \n",
       "2020                      1                        2          0.333333   \n",
       "\n",
       "      Female Proportions  \n",
       "year                      \n",
       "1906            0.333333  \n",
       "1907            0.000000  \n",
       "1908            0.000000  \n",
       "1910            0.500000  \n",
       "1911            0.263158  \n",
       "...                  ...  \n",
       "2016            0.438221  \n",
       "2017            0.421363  \n",
       "2018            0.422535  \n",
       "2019            0.222222  \n",
       "2020            0.666667  \n",
       "\n",
       "[114 rows x 4 columns]"
      ]
     },
     "execution_count": 77,
     "metadata": {},
     "output_type": "execute_result"
    }
   ],
   "source": [
    "# Get the annual proportions of male and female supporting roles\n",
    "\n",
    "Supporting_Roles['Male Proportions'] = Supporting_Roles['Male Supporting Roles']/(Supporting_Roles['Male Supporting Roles'] + Supporting_Roles['Female Supporting Roles'])\n",
    "Supporting_Roles['Female Proportions'] = 1 - Supporting_Roles['Male Proportions']\n",
    "\n",
    "Supporting_Roles"
   ]
  },
  {
   "cell_type": "code",
   "execution_count": null,
   "id": "0d99a989-f04f-4f0c-aed9-1be5ac4c3833",
   "metadata": {},
   "outputs": [],
   "source": []
  }
 ],
 "metadata": {
  "kernelspec": {
   "display_name": "Python 3 (ipykernel)",
   "language": "python",
   "name": "python3"
  },
  "language_info": {
   "codemirror_mode": {
    "name": "ipython",
    "version": 3
   },
   "file_extension": ".py",
   "mimetype": "text/x-python",
   "name": "python",
   "nbconvert_exporter": "python",
   "pygments_lexer": "ipython3",
   "version": "3.9.12"
  }
 },
 "nbformat": 4,
 "nbformat_minor": 5
}
