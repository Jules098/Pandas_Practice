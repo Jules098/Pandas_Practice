{
 "cells": [
  {
   "cell_type": "code",
   "execution_count": 40,
   "id": "6a19c339-f089-4c62-b6f1-4ad1aa838eee",
   "metadata": {},
   "outputs": [],
   "source": [
    "import pandas as pd\n",
    "import numpy as np\n",
    "import matplotlib.pyplot as plt\n",
    "import seaborn as sns"
   ]
  },
  {
   "cell_type": "markdown",
   "id": "703a2c07-0b7b-4fb2-b12d-9680f8f6b533",
   "metadata": {},
   "source": [
    "## Download the Data"
   ]
  },
  {
   "cell_type": "code",
   "execution_count": 41,
   "id": "cadd6b0c-dfca-4bc1-b04a-8201c9c70d2d",
   "metadata": {},
   "outputs": [
    {
     "data": {
      "text/html": [
       "<div>\n",
       "<style scoped>\n",
       "    .dataframe tbody tr th:only-of-type {\n",
       "        vertical-align: middle;\n",
       "    }\n",
       "\n",
       "    .dataframe tbody tr th {\n",
       "        vertical-align: top;\n",
       "    }\n",
       "\n",
       "    .dataframe thead th {\n",
       "        text-align: right;\n",
       "    }\n",
       "</style>\n",
       "<table border=\"1\" class=\"dataframe\">\n",
       "  <thead>\n",
       "    <tr style=\"text-align: right;\">\n",
       "      <th></th>\n",
       "      <th>title</th>\n",
       "      <th>year</th>\n",
       "      <th>name</th>\n",
       "      <th>type</th>\n",
       "      <th>character</th>\n",
       "      <th>n</th>\n",
       "    </tr>\n",
       "  </thead>\n",
       "  <tbody>\n",
       "    <tr>\n",
       "      <th>0</th>\n",
       "      <td>Closet Monster</td>\n",
       "      <td>2015</td>\n",
       "      <td>Buffy #1</td>\n",
       "      <td>actor</td>\n",
       "      <td>Buffy 4</td>\n",
       "      <td>NaN</td>\n",
       "    </tr>\n",
       "    <tr>\n",
       "      <th>1</th>\n",
       "      <td>Suuri illusioni</td>\n",
       "      <td>1985</td>\n",
       "      <td>Homo $</td>\n",
       "      <td>actor</td>\n",
       "      <td>Guests</td>\n",
       "      <td>22.0</td>\n",
       "    </tr>\n",
       "    <tr>\n",
       "      <th>2</th>\n",
       "      <td>Battle of the Sexes</td>\n",
       "      <td>2017</td>\n",
       "      <td>$hutter</td>\n",
       "      <td>actor</td>\n",
       "      <td>Bobby Riggs Fan</td>\n",
       "      <td>10.0</td>\n",
       "    </tr>\n",
       "    <tr>\n",
       "      <th>3</th>\n",
       "      <td>Secret in Their Eyes</td>\n",
       "      <td>2015</td>\n",
       "      <td>$hutter</td>\n",
       "      <td>actor</td>\n",
       "      <td>2002 Dodger Fan</td>\n",
       "      <td>NaN</td>\n",
       "    </tr>\n",
       "    <tr>\n",
       "      <th>4</th>\n",
       "      <td>Steve Jobs</td>\n",
       "      <td>2015</td>\n",
       "      <td>$hutter</td>\n",
       "      <td>actor</td>\n",
       "      <td>1988 Opera House Patron</td>\n",
       "      <td>NaN</td>\n",
       "    </tr>\n",
       "  </tbody>\n",
       "</table>\n",
       "</div>"
      ],
      "text/plain": [
       "                  title  year      name   type                character     n\n",
       "0        Closet Monster  2015  Buffy #1  actor                  Buffy 4   NaN\n",
       "1       Suuri illusioni  1985    Homo $  actor                   Guests  22.0\n",
       "2   Battle of the Sexes  2017   $hutter  actor          Bobby Riggs Fan  10.0\n",
       "3  Secret in Their Eyes  2015   $hutter  actor          2002 Dodger Fan   NaN\n",
       "4            Steve Jobs  2015   $hutter  actor  1988 Opera House Patron   NaN"
      ]
     },
     "execution_count": 41,
     "metadata": {},
     "output_type": "execute_result"
    }
   ],
   "source": [
    "cast = pd.read_csv('cast.csv', index_col=None)\n",
    "cast.head()"
   ]
  },
  {
   "cell_type": "code",
   "execution_count": 42,
   "id": "88c4c96c-b305-4a60-8b96-41e30d9560af",
   "metadata": {},
   "outputs": [
    {
     "data": {
      "text/html": [
       "<div>\n",
       "<style scoped>\n",
       "    .dataframe tbody tr th:only-of-type {\n",
       "        vertical-align: middle;\n",
       "    }\n",
       "\n",
       "    .dataframe tbody tr th {\n",
       "        vertical-align: top;\n",
       "    }\n",
       "\n",
       "    .dataframe thead th {\n",
       "        text-align: right;\n",
       "    }\n",
       "</style>\n",
       "<table border=\"1\" class=\"dataframe\">\n",
       "  <thead>\n",
       "    <tr style=\"text-align: right;\">\n",
       "      <th></th>\n",
       "      <th>title</th>\n",
       "      <th>year</th>\n",
       "      <th>country</th>\n",
       "      <th>date</th>\n",
       "    </tr>\n",
       "  </thead>\n",
       "  <tbody>\n",
       "    <tr>\n",
       "      <th>0</th>\n",
       "      <td>#73, Shaanthi Nivaasa</td>\n",
       "      <td>2007</td>\n",
       "      <td>India</td>\n",
       "      <td>2007-06-15</td>\n",
       "    </tr>\n",
       "    <tr>\n",
       "      <th>1</th>\n",
       "      <td>#Beings</td>\n",
       "      <td>2015</td>\n",
       "      <td>Romania</td>\n",
       "      <td>2015-01-29</td>\n",
       "    </tr>\n",
       "    <tr>\n",
       "      <th>2</th>\n",
       "      <td>#Declimax</td>\n",
       "      <td>2018</td>\n",
       "      <td>Netherlands</td>\n",
       "      <td>2018-01-21</td>\n",
       "    </tr>\n",
       "    <tr>\n",
       "      <th>3</th>\n",
       "      <td>#Ewankosau saranghaeyo</td>\n",
       "      <td>2015</td>\n",
       "      <td>Philippines</td>\n",
       "      <td>2015-01-21</td>\n",
       "    </tr>\n",
       "    <tr>\n",
       "      <th>4</th>\n",
       "      <td>#Horror</td>\n",
       "      <td>2015</td>\n",
       "      <td>USA</td>\n",
       "      <td>2015-11-20</td>\n",
       "    </tr>\n",
       "  </tbody>\n",
       "</table>\n",
       "</div>"
      ],
      "text/plain": [
       "                    title  year      country        date\n",
       "0   #73, Shaanthi Nivaasa  2007        India  2007-06-15\n",
       "1                 #Beings  2015      Romania  2015-01-29\n",
       "2               #Declimax  2018  Netherlands  2018-01-21\n",
       "3  #Ewankosau saranghaeyo  2015  Philippines  2015-01-21\n",
       "4                 #Horror  2015          USA  2015-11-20"
      ]
     },
     "execution_count": 42,
     "metadata": {},
     "output_type": "execute_result"
    }
   ],
   "source": [
    "release_dates = pd.read_csv('release_dates.csv', index_col=None)\n",
    "release_dates.head()"
   ]
  },
  {
   "cell_type": "markdown",
   "id": "082c8747-2de5-4d63-88b6-e583208357cd",
   "metadata": {},
   "source": [
    "## Count the number of movies with \"Christmas\" in their title for each month, that is released are the USA."
   ]
  },
  {
   "cell_type": "code",
   "execution_count": 52,
   "id": "f8f5291d-e3fc-4d76-b6c3-8a77868032a4",
   "metadata": {},
   "outputs": [],
   "source": [
    "# First, create a function that extracts the month from the date column\n",
    "# Then, use the apply.lambda function to create a new column with just the month\n",
    "\n",
    "def getMonth(m):\n",
    "    return m.split(\"-\")[1]\n",
    "\n",
    "release_dates['month'] = release_dates['date'].apply(lambda x: getMonth(x))\n",
    "\n",
    "# Finally, replace the numeric strings with their corresponding month abbreviation\n",
    "\n",
    "release_dates.replace(['01', '02', '03', '04',\n",
    "                       '05', '06', '07', '08',\n",
    "                       '09', '10', '11', '12'],\n",
    "                      ['Jan', 'Feb', 'Mar', 'Apr',\n",
    "                       'May', 'Jun', 'Jul', 'Aug',\n",
    "                       'Sep', 'Oct', 'Nov', 'Dec'],\n",
    "                      inplace=True\n",
    "                     )"
   ]
  },
  {
   "cell_type": "code",
   "execution_count": 137,
   "id": "88a1878c-5b2b-4c12-9d34-c8ca18c48434",
   "metadata": {},
   "outputs": [
    {
     "data": {
      "text/plain": [
       "month\n",
       "Dec    47\n",
       "Nov    38\n",
       "Oct    14\n",
       "Jan     2\n",
       "Feb     2\n",
       "Aug     2\n",
       "Sep     2\n",
       "Apr     1\n",
       "May     1\n",
       "Jun     1\n",
       "Jul     1\n",
       "Mar     0\n",
       "Name: title, dtype: int64"
      ]
     },
     "execution_count": 137,
     "metadata": {},
     "output_type": "execute_result"
    }
   ],
   "source": [
    "# Filter for titles containing the word 'Christmas' AND the country 'USA'.\n",
    "# Groupby newly created 'month' column, get count and sort values in descending order\n",
    "\n",
    "release_dates[(release_dates['title'].str.contains('Christmas')) & (release_dates['country'] == 'USA')\n",
    "             ].groupby('month').count().sort_values('title', ascending=False).title"
   ]
  },
  {
   "cell_type": "markdown",
   "id": "a1359356-a74c-4d5d-87ec-2f457d35322b",
   "metadata": {},
   "source": [
    "## Count the number of movies with \"Christmas\" in their title for each month, that are released in Canada."
   ]
  },
  {
   "cell_type": "code",
   "execution_count": 61,
   "id": "1aee4b9b-3fe3-4b8d-be0c-7a48dd237fa5",
   "metadata": {},
   "outputs": [
    {
     "data": {
      "text/plain": [
       "month\n",
       "Nov    9\n",
       "Dec    6\n",
       "Oct    2\n",
       "Name: title, dtype: int64"
      ]
     },
     "execution_count": 61,
     "metadata": {},
     "output_type": "execute_result"
    }
   ],
   "source": [
    "# Filter for titles containing 'Christmas' AND the country 'Canada'.\n",
    "# Groupby newly created 'month' column, get count and sort values in descending order\n",
    "\n",
    "release_dates[(release_dates['title'].str.contains('Christmas')) & (release_dates['country'] == 'Canada')\n",
    "             ].groupby('month').count().sort_values('title', ascending=False).title"
   ]
  },
  {
   "cell_type": "markdown",
   "id": "3db04e1f-dcd4-4768-87dc-479bc5cacf06",
   "metadata": {},
   "source": [
    "## Count the number of movies in which the titles start with \"The Hobbit\" for each month, that are released in the USA."
   ]
  },
  {
   "cell_type": "code",
   "execution_count": 79,
   "id": "5dcd60e1-6340-4cfe-a51e-56bdd30453d0",
   "metadata": {},
   "outputs": [
    {
     "data": {
      "text/plain": [
       "month\n",
       "Dec    3\n",
       "Name: title, dtype: int64"
      ]
     },
     "execution_count": 79,
     "metadata": {},
     "output_type": "execute_result"
    }
   ],
   "source": [
    "# Filter for titles that start with 'The Hobbit' AND that are released in the 'USA'.\n",
    "# Groupby 'month' and get the title count.\n",
    "\n",
    "release_dates[(release_dates['title'].str.startswith('The Hobbit')) & (release_dates['country'] == 'USA')\n",
    "             ].groupby('month').count().title"
   ]
  },
  {
   "cell_type": "markdown",
   "id": "8e221247-f1b6-4b6c-b674-3388e2cafff2",
   "metadata": {},
   "source": [
    "## Count the number of movies with \"Romance\" in their title for each day of the week, that are released in the USA."
   ]
  },
  {
   "cell_type": "code",
   "execution_count": 91,
   "id": "a6603ea1-3957-4aa9-9c8e-3cbd6f6a6336",
   "metadata": {},
   "outputs": [],
   "source": [
    "from datetime import datetime\n",
    "\n",
    "# First, convert the series to a datetime series\n",
    "\n",
    "release_dates['date'] = pd.to_datetime(release_dates['date'])\n",
    "\n",
    "# Create a function that extracts the day of the week from a datetime series\n",
    "\n",
    "def getDay(d):\n",
    "    return d.strftime('%A')\n",
    "\n",
    "# Use apply function and create a new column in pandas dataframe\n",
    "\n",
    "release_dates['day of week'] = release_dates['date'].apply(lambda x: getDay(x))"
   ]
  },
  {
   "cell_type": "code",
   "execution_count": 100,
   "id": "a7c495ec-152d-4c90-8df6-269bea05c2d9",
   "metadata": {},
   "outputs": [
    {
     "data": {
      "text/plain": [
       "day of week\n",
       "Sunday       32\n",
       "Monday       21\n",
       "Friday       18\n",
       "Wednesday    11\n",
       "Saturday      8\n",
       "Thursday      6\n",
       "Tuesday       4\n",
       "Name: date, dtype: int64"
      ]
     },
     "execution_count": 100,
     "metadata": {},
     "output_type": "execute_result"
    }
   ],
   "source": [
    "# Filter for titles containing 'Romance' AND release country of 'USA'.\n",
    "# Groupby newly created column 'day of week', get the count and sort values in descending order\n",
    "\n",
    "release_dates[(release_dates['title'].str.contains('Romance')) & (release_dates['country'] == 'USA')\n",
    "             ].groupby('day of week').count().sort_values('title', ascending=False).date"
   ]
  },
  {
   "cell_type": "markdown",
   "id": "f07bfc1b-03d4-44bf-8378-37fbbbda62d5",
   "metadata": {},
   "source": [
    "## Count the number of movies with \"Action\" in their title for each day of the week, that are released in the USA."
   ]
  },
  {
   "cell_type": "code",
   "execution_count": 103,
   "id": "1a7836d3-46df-4b8c-8398-ea3e4227c471",
   "metadata": {},
   "outputs": [
    {
     "data": {
      "text/plain": [
       "day of week\n",
       "Friday       19\n",
       "Monday        2\n",
       "Saturday      2\n",
       "Sunday        3\n",
       "Thursday      1\n",
       "Tuesday       1\n",
       "Wednesday     3\n",
       "Name: title, dtype: int64"
      ]
     },
     "execution_count": 103,
     "metadata": {},
     "output_type": "execute_result"
    }
   ],
   "source": [
    "# Filter for films containing the word 'Action' AND the country 'USA'.\n",
    "# Group by 'day of week' column, get total title count.\n",
    "\n",
    "release_dates[(release_dates['title'].str.contains('Action')) & (release_dates['country'] == 'USA')\n",
    "             ].groupby('day of week').count().title"
   ]
  },
  {
   "cell_type": "markdown",
   "id": "7a4d8fd1-8db1-4225-9686-8fb76c5ee73c",
   "metadata": {},
   "source": [
    "## On which date was each Judi Dench movie from the 1990s released in the USA?"
   ]
  },
  {
   "cell_type": "code",
   "execution_count": 123,
   "id": "8f8c56be-e7f3-411f-abba-1f068ce46d6c",
   "metadata": {},
   "outputs": [],
   "source": [
    "# First, merge the two dataframes on their shared columns 'title' & 'year\n",
    "\n",
    "new_df = pd.merge(release_dates, cast, how='inner', on=['title', 'year'])"
   ]
  },
  {
   "cell_type": "code",
   "execution_count": 125,
   "id": "60065f0d-c259-4434-a83e-dab782cae7c3",
   "metadata": {},
   "outputs": [
    {
     "data": {
      "text/html": [
       "<div>\n",
       "<style scoped>\n",
       "    .dataframe tbody tr th:only-of-type {\n",
       "        vertical-align: middle;\n",
       "    }\n",
       "\n",
       "    .dataframe tbody tr th {\n",
       "        vertical-align: top;\n",
       "    }\n",
       "\n",
       "    .dataframe thead th {\n",
       "        text-align: right;\n",
       "    }\n",
       "</style>\n",
       "<table border=\"1\" class=\"dataframe\">\n",
       "  <thead>\n",
       "    <tr style=\"text-align: right;\">\n",
       "      <th></th>\n",
       "      <th>title</th>\n",
       "      <th>year</th>\n",
       "      <th>day of week</th>\n",
       "    </tr>\n",
       "  </thead>\n",
       "  <tbody>\n",
       "    <tr>\n",
       "      <th>5410286</th>\n",
       "      <td>GoldenEye</td>\n",
       "      <td>1995</td>\n",
       "      <td>Friday</td>\n",
       "    </tr>\n",
       "    <tr>\n",
       "      <th>5706049</th>\n",
       "      <td>Hamlet</td>\n",
       "      <td>1996</td>\n",
       "      <td>Wednesday</td>\n",
       "    </tr>\n",
       "    <tr>\n",
       "      <th>6926117</th>\n",
       "      <td>Jack &amp; Sarah</td>\n",
       "      <td>1995</td>\n",
       "      <td>Friday</td>\n",
       "    </tr>\n",
       "    <tr>\n",
       "      <th>9431245</th>\n",
       "      <td>Mrs Brown</td>\n",
       "      <td>1997</td>\n",
       "      <td>Friday</td>\n",
       "    </tr>\n",
       "    <tr>\n",
       "      <th>12061910</th>\n",
       "      <td>Shakespeare in Love</td>\n",
       "      <td>1998</td>\n",
       "      <td>Friday</td>\n",
       "    </tr>\n",
       "    <tr>\n",
       "      <th>13371384</th>\n",
       "      <td>Tea with Mussolini</td>\n",
       "      <td>1999</td>\n",
       "      <td>Friday</td>\n",
       "    </tr>\n",
       "    <tr>\n",
       "      <th>16749874</th>\n",
       "      <td>The World Is Not Enough</td>\n",
       "      <td>1999</td>\n",
       "      <td>Friday</td>\n",
       "    </tr>\n",
       "    <tr>\n",
       "      <th>17024908</th>\n",
       "      <td>Tomorrow Never Dies</td>\n",
       "      <td>1997</td>\n",
       "      <td>Friday</td>\n",
       "    </tr>\n",
       "  </tbody>\n",
       "</table>\n",
       "</div>"
      ],
      "text/plain": [
       "                            title  year day of week\n",
       "5410286                 GoldenEye  1995      Friday\n",
       "5706049                    Hamlet  1996   Wednesday\n",
       "6926117              Jack & Sarah  1995      Friday\n",
       "9431245                 Mrs Brown  1997      Friday\n",
       "12061910      Shakespeare in Love  1998      Friday\n",
       "13371384       Tea with Mussolini  1999      Friday\n",
       "16749874  The World Is Not Enough  1999      Friday\n",
       "17024908      Tomorrow Never Dies  1997      Friday"
      ]
     },
     "execution_count": 125,
     "metadata": {},
     "output_type": "execute_result"
    }
   ],
   "source": [
    "# Filter for 'Judi Dench' AND all years greater than or equal to 1990 and less than 2000.\n",
    "# AND for country = 'USA'. \n",
    "\n",
    "new_df[(new_df['name'] == 'Judi Dench') \n",
    "       & ((new_df['year'] >= 1990) & (new_df['year'] < 2000)) \n",
    "       & (new_df['country'] == 'USA')\n",
    "      ][['title', 'year', 'day of week']]"
   ]
  },
  {
   "cell_type": "markdown",
   "id": "b292a66e-462d-40e3-8fe6-ed61c37162cb",
   "metadata": {},
   "source": [
    "## In which months do films with the actress Judi Dench tend to be released in the USA?"
   ]
  },
  {
   "cell_type": "code",
   "execution_count": 149,
   "id": "209601a0-9cc6-43a3-be32-14829d3e2ab1",
   "metadata": {},
   "outputs": [],
   "source": [
    "months = [\"Jan\", \"Feb\", \"Mar\", \"Apr\", \"May\", \"Jun\", \n",
    "          \"Jul\", \"Aug\", \"Sep\", \"Oct\", \"Nov\", \"Dec\"]"
   ]
  },
  {
   "cell_type": "code",
   "execution_count": 154,
   "id": "06914f17-cb2e-4c5e-b88e-d33869e434a2",
   "metadata": {},
   "outputs": [
    {
     "data": {
      "text/plain": [
       "<AxesSubplot: xlabel='month'>"
      ]
     },
     "execution_count": 154,
     "metadata": {},
     "output_type": "execute_result"
    },
    {
     "data": {
      "image/png": "[encoded data removed]",
      "text/plain": [
       "<Figure size 640x480 with 1 Axes>"
      ]
     },
     "metadata": {},
     "output_type": "display_data"
    }
   ],
   "source": [
    "# Filter for name 'Judi Dench' AND country 'USA'. Groupby 'month' column.\n",
    "# Get the counts, select the title column, reindex with the months list to get the\n",
    "# correct ordering of months.  Plot for visualization.\n",
    "\n",
    "new_df[(new_df['name'] == 'Judi Dench') & (new_df['country'] == 'USA')\n",
    "      ].groupby('month').count().title.reindex(months, axis=0).plot(kind='bar')"
   ]
  },
  {
   "cell_type": "markdown",
   "id": "01eb9515-c3cc-422f-902e-d13eda56d08a",
   "metadata": {},
   "source": [
    "## In which months do films with the actor Tom Cruise tend to be released in the USA?"
   ]
  },
  {
   "cell_type": "code",
   "execution_count": 155,
   "id": "97d068f8-abf2-47f6-8f42-f1978ee7cc1c",
   "metadata": {},
   "outputs": [
    {
     "data": {
      "text/plain": [
       "<AxesSubplot: xlabel='month'>"
      ]
     },
     "execution_count": 155,
     "metadata": {},
     "output_type": "execute_result"
    },
    {
     "data": {
      "image/png": "[encoded data removed]",
      "text/plain": [
       "<Figure size 640x480 with 1 Axes>"
      ]
     },
     "metadata": {},
     "output_type": "display_data"
    }
   ],
   "source": [
    "# Filter for name 'Tom Cruise' AND country 'USA'. Groupby 'month' column.\n",
    "# Get the counts, select the title column, reindex with the months list to get the\n",
    "# correct ordering of months.  Plot for visualization.\n",
    "\n",
    "new_df[(new_df['name'] == 'Tom Cruise') & (new_df['country'] == 'USA')\n",
    "      ].groupby('month').count().title.reindex(months, axis=0).plot(kind='bar')"
   ]
  },
  {
   "cell_type": "code",
   "execution_count": null,
   "id": "02e960d3-8ba8-4cf6-b23f-fa1e0421e9fd",
   "metadata": {},
   "outputs": [],
   "source": []
  }
 ],
 "metadata": {
  "kernelspec": {
   "display_name": "Python 3 (ipykernel)",
   "language": "python",
   "name": "python3"
  },
  "language_info": {
   "codemirror_mode": {
    "name": "ipython",
    "version": 3
   },
   "file_extension": ".py",
   "mimetype": "text/x-python",
   "name": "python",
   "nbconvert_exporter": "python",
   "pygments_lexer": "ipython3",
   "version": "3.9.12"
  }
 },
 "nbformat": 4,
 "nbformat_minor": 5
}
