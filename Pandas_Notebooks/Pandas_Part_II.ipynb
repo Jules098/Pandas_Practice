{
 "cells": [
  {
   "cell_type": "code",
   "execution_count": 1,
   "id": "09f67b88-e9f2-4f3e-b82e-e1d2914c3eb5",
   "metadata": {},
   "outputs": [],
   "source": [
    "import pandas as pd\n",
    "import matplotlib.pyplot as plt\n",
    "import seaborn as sns"
   ]
  },
  {
   "cell_type": "markdown",
   "id": "e0948a4c-c692-4b44-b2a7-de93e3fe9ef5",
   "metadata": {},
   "source": [
    "## Download the data"
   ]
  },
  {
   "cell_type": "code",
   "execution_count": 4,
   "id": "fcfd1c6e-8244-4c7f-99c6-0415efd4d600",
   "metadata": {},
   "outputs": [
    {
     "data": {
      "text/html": [
       "<div>\n",
       "<style scoped>\n",
       "    .dataframe tbody tr th:only-of-type {\n",
       "        vertical-align: middle;\n",
       "    }\n",
       "\n",
       "    .dataframe tbody tr th {\n",
       "        vertical-align: top;\n",
       "    }\n",
       "\n",
       "    .dataframe thead th {\n",
       "        text-align: right;\n",
       "    }\n",
       "</style>\n",
       "<table border=\"1\" class=\"dataframe\">\n",
       "  <thead>\n",
       "    <tr style=\"text-align: right;\">\n",
       "      <th></th>\n",
       "      <th>title</th>\n",
       "      <th>year</th>\n",
       "    </tr>\n",
       "  </thead>\n",
       "  <tbody>\n",
       "    <tr>\n",
       "      <th>0</th>\n",
       "      <td>The Rising Son</td>\n",
       "      <td>1990</td>\n",
       "    </tr>\n",
       "    <tr>\n",
       "      <th>1</th>\n",
       "      <td>The Thousand Plane Raid</td>\n",
       "      <td>1969</td>\n",
       "    </tr>\n",
       "    <tr>\n",
       "      <th>2</th>\n",
       "      <td>Crucea de piatra</td>\n",
       "      <td>1993</td>\n",
       "    </tr>\n",
       "    <tr>\n",
       "      <th>3</th>\n",
       "      <td>Country</td>\n",
       "      <td>2000</td>\n",
       "    </tr>\n",
       "    <tr>\n",
       "      <th>4</th>\n",
       "      <td>Gaiking II</td>\n",
       "      <td>2011</td>\n",
       "    </tr>\n",
       "  </tbody>\n",
       "</table>\n",
       "</div>"
      ],
      "text/plain": [
       "                     title  year\n",
       "0           The Rising Son  1990\n",
       "1  The Thousand Plane Raid  1969\n",
       "2         Crucea de piatra  1993\n",
       "3                  Country  2000\n",
       "4               Gaiking II  2011"
      ]
     },
     "execution_count": 4,
     "metadata": {},
     "output_type": "execute_result"
    }
   ],
   "source": [
    "titles = pd.read_csv('titles.csv', index_col=None)\n",
    "titles.head()"
   ]
  },
  {
   "cell_type": "code",
   "execution_count": 5,
   "id": "bb9930fe-f19d-4921-a452-ae05883a45b2",
   "metadata": {},
   "outputs": [
    {
     "data": {
      "text/html": [
       "<div>\n",
       "<style scoped>\n",
       "    .dataframe tbody tr th:only-of-type {\n",
       "        vertical-align: middle;\n",
       "    }\n",
       "\n",
       "    .dataframe tbody tr th {\n",
       "        vertical-align: top;\n",
       "    }\n",
       "\n",
       "    .dataframe thead th {\n",
       "        text-align: right;\n",
       "    }\n",
       "</style>\n",
       "<table border=\"1\" class=\"dataframe\">\n",
       "  <thead>\n",
       "    <tr style=\"text-align: right;\">\n",
       "      <th></th>\n",
       "      <th>title</th>\n",
       "      <th>year</th>\n",
       "      <th>name</th>\n",
       "      <th>type</th>\n",
       "      <th>character</th>\n",
       "      <th>n</th>\n",
       "    </tr>\n",
       "  </thead>\n",
       "  <tbody>\n",
       "    <tr>\n",
       "      <th>0</th>\n",
       "      <td>Closet Monster</td>\n",
       "      <td>2015</td>\n",
       "      <td>Buffy #1</td>\n",
       "      <td>actor</td>\n",
       "      <td>Buffy 4</td>\n",
       "      <td>NaN</td>\n",
       "    </tr>\n",
       "    <tr>\n",
       "      <th>1</th>\n",
       "      <td>Suuri illusioni</td>\n",
       "      <td>1985</td>\n",
       "      <td>Homo $</td>\n",
       "      <td>actor</td>\n",
       "      <td>Guests</td>\n",
       "      <td>22.0</td>\n",
       "    </tr>\n",
       "    <tr>\n",
       "      <th>2</th>\n",
       "      <td>Battle of the Sexes</td>\n",
       "      <td>2017</td>\n",
       "      <td>$hutter</td>\n",
       "      <td>actor</td>\n",
       "      <td>Bobby Riggs Fan</td>\n",
       "      <td>10.0</td>\n",
       "    </tr>\n",
       "    <tr>\n",
       "      <th>3</th>\n",
       "      <td>Secret in Their Eyes</td>\n",
       "      <td>2015</td>\n",
       "      <td>$hutter</td>\n",
       "      <td>actor</td>\n",
       "      <td>2002 Dodger Fan</td>\n",
       "      <td>NaN</td>\n",
       "    </tr>\n",
       "    <tr>\n",
       "      <th>4</th>\n",
       "      <td>Steve Jobs</td>\n",
       "      <td>2015</td>\n",
       "      <td>$hutter</td>\n",
       "      <td>actor</td>\n",
       "      <td>1988 Opera House Patron</td>\n",
       "      <td>NaN</td>\n",
       "    </tr>\n",
       "  </tbody>\n",
       "</table>\n",
       "</div>"
      ],
      "text/plain": [
       "                  title  year      name   type                character     n\n",
       "0        Closet Monster  2015  Buffy #1  actor                  Buffy 4   NaN\n",
       "1       Suuri illusioni  1985    Homo $  actor                   Guests  22.0\n",
       "2   Battle of the Sexes  2017   $hutter  actor          Bobby Riggs Fan  10.0\n",
       "3  Secret in Their Eyes  2015   $hutter  actor          2002 Dodger Fan   NaN\n",
       "4            Steve Jobs  2015   $hutter  actor  1988 Opera House Patron   NaN"
      ]
     },
     "execution_count": 5,
     "metadata": {},
     "output_type": "execute_result"
    }
   ],
   "source": [
    "cast = pd.read_csv('cast.csv', index_col=None)\n",
    "cast.head()"
   ]
  },
  {
   "cell_type": "markdown",
   "id": "594a6b89-7a19-41ea-b35b-2bac7fd85fac",
   "metadata": {},
   "source": [
    "## What are the ten most common movie names of all time?"
   ]
  },
  {
   "cell_type": "code",
   "execution_count": 12,
   "id": "a3794093-1bfb-432f-a5ca-93f97409cf18",
   "metadata": {},
   "outputs": [
    {
     "data": {
      "text/plain": [
       "Hamlet                  18\n",
       "Carmen                  16\n",
       "Macbeth                 15\n",
       "Maya                    12\n",
       "The Outsider            12\n",
       "The Three Musketeers    11\n",
       "Temptation              11\n",
       "Kismet                  11\n",
       "Freedom                 11\n",
       "Othello                 11\n",
       "Name: title, dtype: int64"
      ]
     },
     "execution_count": 12,
     "metadata": {},
     "output_type": "execute_result"
    }
   ],
   "source": [
    "# Get the value counts of the top 10 most common movie names\n",
    "\n",
    "titles.title.value_counts().head(10)"
   ]
  },
  {
   "cell_type": "markdown",
   "id": "6a7c9d17-73f6-4953-9013-ecaffc383b76",
   "metadata": {},
   "source": [
    "## Which three years in the 1930s saw the most films released?"
   ]
  },
  {
   "cell_type": "code",
   "execution_count": 30,
   "id": "4e1c8f7e-cd89-4f83-8f6f-251d40dc105f",
   "metadata": {},
   "outputs": [
    {
     "data": {
      "text/html": [
       "<div>\n",
       "<style scoped>\n",
       "    .dataframe tbody tr th:only-of-type {\n",
       "        vertical-align: middle;\n",
       "    }\n",
       "\n",
       "    .dataframe tbody tr th {\n",
       "        vertical-align: top;\n",
       "    }\n",
       "\n",
       "    .dataframe thead th {\n",
       "        text-align: right;\n",
       "    }\n",
       "</style>\n",
       "<table border=\"1\" class=\"dataframe\">\n",
       "  <thead>\n",
       "    <tr style=\"text-align: right;\">\n",
       "      <th></th>\n",
       "      <th>title</th>\n",
       "    </tr>\n",
       "    <tr>\n",
       "      <th>year</th>\n",
       "      <th></th>\n",
       "    </tr>\n",
       "  </thead>\n",
       "  <tbody>\n",
       "    <tr>\n",
       "      <th>1937</th>\n",
       "      <td>27462</td>\n",
       "    </tr>\n",
       "    <tr>\n",
       "      <th>1936</th>\n",
       "      <td>25755</td>\n",
       "    </tr>\n",
       "    <tr>\n",
       "      <th>1938</th>\n",
       "      <td>25206</td>\n",
       "    </tr>\n",
       "  </tbody>\n",
       "</table>\n",
       "</div>"
      ],
      "text/plain": [
       "      title\n",
       "year       \n",
       "1937  27462\n",
       "1936  25755\n",
       "1938  25206"
      ]
     },
     "execution_count": 30,
     "metadata": {},
     "output_type": "execute_result"
    }
   ],
   "source": [
    "# Filter for years between 1930-40, groupby year, aggregate count function on title\n",
    "# then sort values by title count in descending order.\n",
    "\n",
    "cast[(cast['year'] >= 1930) & (cast['year'] < 1940)\n",
    "    ].groupby('year').agg({'title': 'count'}).sort_values('title', ascending=False)[:3]"
   ]
  },
  {
   "cell_type": "markdown",
   "id": "e8b9b284-b3bd-4b40-83e8-4bebcada96b1",
   "metadata": {},
   "source": [
    "## Count the number of films that have been released in each decade over the history of cinema."
   ]
  },
  {
   "cell_type": "code",
   "execution_count": 66,
   "id": "17564018-fe93-4bc8-9f83-1fbffe465dd0",
   "metadata": {},
   "outputs": [
    {
     "data": {
      "text/plain": [
       "decade\n",
       "1890s          3\n",
       "1900s         70\n",
       "1910s      42604\n",
       "1920s      71472\n",
       "1930s     199058\n",
       "1940s     211842\n",
       "1950s     211470\n",
       "1960s     187069\n",
       "1970s     215147\n",
       "1980s     283194\n",
       "1990s     381806\n",
       "2000s     746571\n",
       "2010s    1083959\n",
       "2020s        202\n",
       "Name: title, dtype: int64"
      ]
     },
     "execution_count": 66,
     "metadata": {},
     "output_type": "execute_result"
    }
   ],
   "source": [
    "# First, create a column called 'decade' where \n",
    "\n",
    "cast['decade'] = (10 * (cast['year'] // 10)).astype(str) + 's'\n",
    "\n",
    "# Group by newly created decade column, get total title count\n",
    "\n",
    "cast.groupby('decade').title.count()"
   ]
  },
  {
   "cell_type": "markdown",
   "id": "031eaf18-0cdb-4f5c-9976-9a0819acf905",
   "metadata": {},
   "source": [
    "## Count the number of \"Hamlet\" films made in each decade."
   ]
  },
  {
   "cell_type": "code",
   "execution_count": 71,
   "id": "cd883bfa-81be-4f24-aea2-d962ce7c7e54",
   "metadata": {},
   "outputs": [
    {
     "data": {
      "text/plain": [
       "decade\n",
       "1910s    28\n",
       "1920s     9\n",
       "1940s    24\n",
       "1950s     1\n",
       "1960s    57\n",
       "1970s    19\n",
       "1980s     3\n",
       "1990s    83\n",
       "2000s    55\n",
       "2010s    34\n",
       "Name: title, dtype: int64"
      ]
     },
     "execution_count": 71,
     "metadata": {},
     "output_type": "execute_result"
    }
   ],
   "source": [
    "# filter titles for movies called 'Hamlet'. Group by derived 'decade' column.\n",
    "\n",
    "cast[(cast['title'] == 'Hamlet')].groupby('decade').title.count()"
   ]
  },
  {
   "cell_type": "markdown",
   "id": "64da3bca-5161-4b43-beed-ef534874284c",
   "metadata": {},
   "source": [
    "## Count the number of \"Rustler\" characters in each decade of the history of film."
   ]
  },
  {
   "cell_type": "code",
   "execution_count": 75,
   "id": "0e47035a-f02c-4fe9-a868-c1368f28d11a",
   "metadata": {},
   "outputs": [
    {
     "data": {
      "text/plain": [
       "decade\n",
       "1920s     6\n",
       "1930s    84\n",
       "1940s    18\n",
       "1950s     8\n",
       "1960s     2\n",
       "1970s     9\n",
       "1980s     1\n",
       "1990s     4\n",
       "2000s     2\n",
       "Name: character, dtype: int64"
      ]
     },
     "execution_count": 75,
     "metadata": {},
     "output_type": "execute_result"
    }
   ],
   "source": [
    "# Filter for 'Rustler' characters, group by decade. Get character count.\n",
    "\n",
    "cast[(cast['character'] == 'Rustler')].groupby('decade').character.count()"
   ]
  },
  {
   "cell_type": "markdown",
   "id": "626b2951-0ace-497f-825f-2a1c4f49803f",
   "metadata": {},
   "source": [
    "## Count the number of \"Hamlet\" characters in each decade."
   ]
  },
  {
   "cell_type": "code",
   "execution_count": 74,
   "id": "c53a85a9-661a-4fed-b7a9-00fec87a2b97",
   "metadata": {},
   "outputs": [
    {
     "data": {
      "text/plain": [
       "decade\n",
       "1910s     6\n",
       "1920s     1\n",
       "1930s     6\n",
       "1940s     1\n",
       "1950s     3\n",
       "1960s     7\n",
       "1970s     8\n",
       "1980s     2\n",
       "1990s    11\n",
       "2000s    19\n",
       "2010s    28\n",
       "Name: character, dtype: int64"
      ]
     },
     "execution_count": 74,
     "metadata": {},
     "output_type": "execute_result"
    }
   ],
   "source": [
    "# filter for characters called 'Hamlet'. Group by derived column 'decade' and get total character count.\n",
    "\n",
    "cast[(cast['character'] == 'Hamlet')].groupby('decade').character.count()"
   ]
  },
  {
   "cell_type": "markdown",
   "id": "eff0cac9-c036-4b77-99ed-2f171b00b9e2",
   "metadata": {},
   "source": [
    "## What are the 11 most common character names in movie history?"
   ]
  },
  {
   "cell_type": "code",
   "execution_count": 83,
   "id": "a10e6f0b-6705-4aa0-b1ec-7d19ccdef56d",
   "metadata": {},
   "outputs": [
    {
     "data": {
      "text/plain": [
       "['Himself',\n",
       " 'Dancer',\n",
       " 'Extra',\n",
       " 'Reporter',\n",
       " 'Doctor',\n",
       " 'Student',\n",
       " 'Policeman',\n",
       " 'Party Guest',\n",
       " 'Nurse',\n",
       " 'Bartender',\n",
       " 'Minor Role']"
      ]
     },
     "execution_count": 83,
     "metadata": {},
     "output_type": "execute_result"
    }
   ],
   "source": [
    "# Get first 11 value counts of character column. Get index and set to list.\n",
    "\n",
    "cast['character'].value_counts()[:11].index.tolist()"
   ]
  },
  {
   "cell_type": "markdown",
   "id": "8fd21651-deb4-42aa-909f-31e25ba2de35",
   "metadata": {},
   "source": [
    "## Who are the 10 people most often credited as \"Herself\" in film history?"
   ]
  },
  {
   "cell_type": "code",
   "execution_count": 93,
   "id": "5b2342ab-a2b8-4962-ae51-ffa03d09413b",
   "metadata": {},
   "outputs": [
    {
     "name": "stdout",
     "output_type": "stream",
     "text": [
      "The 10 most often credited roles as 'Herself' are ['Queen Elizabeth II', 'Joyce Brothers', 'Margaret Thatcher', 'Mary Jo Pehl', 'Hillary Clinton', 'Joan Rivers', 'Sumie Sakai', 'Marilyn Monroe', 'Bunny Yeager', 'Caroline Rhea'].\n"
     ]
    }
   ],
   "source": [
    "# Filter for characters called 'Herself'. Get name values, and value counts. Select top 10 and index to list.\n",
    "\n",
    "Herself = cast[(cast['character'] == 'Herself')].name.value_counts()[:10].index.tolist()\n",
    "print(f\"The 10 most often credited roles as 'Herself' are {Herself}.\")"
   ]
  },
  {
   "cell_type": "markdown",
   "id": "a12d8b3f-8d05-455a-96ab-f24037842aed",
   "metadata": {},
   "source": [
    "## Who are the 10 people most often credited as \"Himself\" in film history?"
   ]
  },
  {
   "cell_type": "code",
   "execution_count": 95,
   "id": "eb089c2c-6059-4d5b-8a07-f4bc052644c4",
   "metadata": {},
   "outputs": [
    {
     "name": "stdout",
     "output_type": "stream",
     "text": [
      "The 10 most often credited roles as 'Himself' are ['Adolf Hitler', 'Richard Nixon', 'Ronald Reagan', 'John F. Kennedy', 'Winston Churchill', 'George W. Bush', 'Benito Mussolini', 'Ron Jeremy', 'Martin Luther King', 'Franklin D. Roosevelt'].\n"
     ]
    }
   ],
   "source": [
    "Himself = cast[(cast['character'] == 'Himself')].name.value_counts()[:10].index.tolist()\n",
    "print(f\"The 10 most often credited roles as 'Himself' are {Himself}.\")"
   ]
  },
  {
   "cell_type": "markdown",
   "id": "d0d39326-338d-4bf1-90f6-da7a287b811f",
   "metadata": {},
   "source": [
    "## Which actors or actresses appeared in the most movies in the year 1945?"
   ]
  },
  {
   "cell_type": "code",
   "execution_count": 107,
   "id": "58886c31-f720-459c-983c-25c52041bab3",
   "metadata": {},
   "outputs": [
    {
     "data": {
      "text/html": [
       "<div>\n",
       "<style scoped>\n",
       "    .dataframe tbody tr th:only-of-type {\n",
       "        vertical-align: middle;\n",
       "    }\n",
       "\n",
       "    .dataframe tbody tr th {\n",
       "        vertical-align: top;\n",
       "    }\n",
       "\n",
       "    .dataframe thead th {\n",
       "        text-align: right;\n",
       "    }\n",
       "</style>\n",
       "<table border=\"1\" class=\"dataframe\">\n",
       "  <thead>\n",
       "    <tr style=\"text-align: right;\">\n",
       "      <th></th>\n",
       "      <th>type</th>\n",
       "    </tr>\n",
       "    <tr>\n",
       "      <th>name</th>\n",
       "      <th></th>\n",
       "    </tr>\n",
       "  </thead>\n",
       "  <tbody>\n",
       "    <tr>\n",
       "      <th>Emmett Vogan</th>\n",
       "      <td>39</td>\n",
       "    </tr>\n",
       "    <tr>\n",
       "      <th>Sam (II) Harris</th>\n",
       "      <td>32</td>\n",
       "    </tr>\n",
       "    <tr>\n",
       "      <th>Bess Flowers</th>\n",
       "      <td>29</td>\n",
       "    </tr>\n",
       "    <tr>\n",
       "      <th>Harold Miller</th>\n",
       "      <td>29</td>\n",
       "    </tr>\n",
       "    <tr>\n",
       "      <th>Nolan Leary</th>\n",
       "      <td>27</td>\n",
       "    </tr>\n",
       "  </tbody>\n",
       "</table>\n",
       "</div>"
      ],
      "text/plain": [
       "                 type\n",
       "name                 \n",
       "Emmett Vogan       39\n",
       "Sam (II) Harris    32\n",
       "Bess Flowers       29\n",
       "Harold Miller      29\n",
       "Nolan Leary        27"
      ]
     },
     "execution_count": 107,
     "metadata": {},
     "output_type": "execute_result"
    }
   ],
   "source": [
    "cast[(cast['year'] == 1945)].groupby('name').agg({'type':'count'}).sort_values('type', ascending=False).head(5)"
   ]
  },
  {
   "cell_type": "markdown",
   "id": "19ce95e7-c7a3-4f40-90ec-bb680bc81c37",
   "metadata": {},
   "source": [
    "## Which actors or actresses appeared in the most movies in the year 1985?"
   ]
  },
  {
   "cell_type": "code",
   "execution_count": 110,
   "id": "ad0e7a34-234f-4d48-a2a9-a0bc77b1e974",
   "metadata": {},
   "outputs": [
    {
     "data": {
      "text/html": [
       "<div>\n",
       "<style scoped>\n",
       "    .dataframe tbody tr th:only-of-type {\n",
       "        vertical-align: middle;\n",
       "    }\n",
       "\n",
       "    .dataframe tbody tr th {\n",
       "        vertical-align: top;\n",
       "    }\n",
       "\n",
       "    .dataframe thead th {\n",
       "        text-align: right;\n",
       "    }\n",
       "</style>\n",
       "<table border=\"1\" class=\"dataframe\">\n",
       "  <thead>\n",
       "    <tr style=\"text-align: right;\">\n",
       "      <th></th>\n",
       "      <th>type</th>\n",
       "    </tr>\n",
       "    <tr>\n",
       "      <th>name</th>\n",
       "      <th></th>\n",
       "    </tr>\n",
       "  </thead>\n",
       "  <tbody>\n",
       "    <tr>\n",
       "      <th>Mammootty</th>\n",
       "      <td>22</td>\n",
       "    </tr>\n",
       "    <tr>\n",
       "      <th>Shakti Kapoor</th>\n",
       "      <td>21</td>\n",
       "    </tr>\n",
       "    <tr>\n",
       "      <th>Sukumari</th>\n",
       "      <td>20</td>\n",
       "    </tr>\n",
       "    <tr>\n",
       "      <th>Raj Babbar</th>\n",
       "      <td>15</td>\n",
       "    </tr>\n",
       "    <tr>\n",
       "      <th>Lou Scheimer</th>\n",
       "      <td>15</td>\n",
       "    </tr>\n",
       "  </tbody>\n",
       "</table>\n",
       "</div>"
      ],
      "text/plain": [
       "               type\n",
       "name               \n",
       "Mammootty        22\n",
       "Shakti Kapoor    21\n",
       "Sukumari         20\n",
       "Raj Babbar       15\n",
       "Lou Scheimer     15"
      ]
     },
     "execution_count": 110,
     "metadata": {},
     "output_type": "execute_result"
    }
   ],
   "source": [
    "cast[(cast['year'] == 1985)].groupby('name').agg({'type':'count'}).sort_values('type', ascending=False).head(5)"
   ]
  },
  {
   "cell_type": "markdown",
   "id": "4794a5cd-7548-4478-aae6-1d394d092ae0",
   "metadata": {},
   "source": [
    "## How many roles \"Mammootty\" has played in each year of his career."
   ]
  },
  {
   "cell_type": "code",
   "execution_count": 118,
   "id": "b6002c67-052d-4b65-bb96-35cdf0288073",
   "metadata": {},
   "outputs": [
    {
     "data": {
      "text/html": [
       "<div>\n",
       "<style scoped>\n",
       "    .dataframe tbody tr th:only-of-type {\n",
       "        vertical-align: middle;\n",
       "    }\n",
       "\n",
       "    .dataframe tbody tr th {\n",
       "        vertical-align: top;\n",
       "    }\n",
       "\n",
       "    .dataframe thead th {\n",
       "        text-align: right;\n",
       "    }\n",
       "</style>\n",
       "<table border=\"1\" class=\"dataframe\">\n",
       "  <thead>\n",
       "    <tr style=\"text-align: right;\">\n",
       "      <th></th>\n",
       "      <th>character</th>\n",
       "    </tr>\n",
       "    <tr>\n",
       "      <th>year</th>\n",
       "      <th></th>\n",
       "    </tr>\n",
       "  </thead>\n",
       "  <tbody>\n",
       "    <tr>\n",
       "      <th>1971</th>\n",
       "      <td>1</td>\n",
       "    </tr>\n",
       "    <tr>\n",
       "      <th>1980</th>\n",
       "      <td>2</td>\n",
       "    </tr>\n",
       "    <tr>\n",
       "      <th>1981</th>\n",
       "      <td>3</td>\n",
       "    </tr>\n",
       "    <tr>\n",
       "      <th>1982</th>\n",
       "      <td>7</td>\n",
       "    </tr>\n",
       "    <tr>\n",
       "      <th>1983</th>\n",
       "      <td>18</td>\n",
       "    </tr>\n",
       "    <tr>\n",
       "      <th>1984</th>\n",
       "      <td>16</td>\n",
       "    </tr>\n",
       "    <tr>\n",
       "      <th>1985</th>\n",
       "      <td>22</td>\n",
       "    </tr>\n",
       "    <tr>\n",
       "      <th>1986</th>\n",
       "      <td>18</td>\n",
       "    </tr>\n",
       "    <tr>\n",
       "      <th>1987</th>\n",
       "      <td>9</td>\n",
       "    </tr>\n",
       "    <tr>\n",
       "      <th>1988</th>\n",
       "      <td>7</td>\n",
       "    </tr>\n",
       "    <tr>\n",
       "      <th>1989</th>\n",
       "      <td>10</td>\n",
       "    </tr>\n",
       "    <tr>\n",
       "      <th>1990</th>\n",
       "      <td>15</td>\n",
       "    </tr>\n",
       "    <tr>\n",
       "      <th>1991</th>\n",
       "      <td>6</td>\n",
       "    </tr>\n",
       "    <tr>\n",
       "      <th>1992</th>\n",
       "      <td>3</td>\n",
       "    </tr>\n",
       "    <tr>\n",
       "      <th>1993</th>\n",
       "      <td>5</td>\n",
       "    </tr>\n",
       "    <tr>\n",
       "      <th>1994</th>\n",
       "      <td>5</td>\n",
       "    </tr>\n",
       "    <tr>\n",
       "      <th>1995</th>\n",
       "      <td>5</td>\n",
       "    </tr>\n",
       "    <tr>\n",
       "      <th>1996</th>\n",
       "      <td>3</td>\n",
       "    </tr>\n",
       "    <tr>\n",
       "      <th>1997</th>\n",
       "      <td>2</td>\n",
       "    </tr>\n",
       "    <tr>\n",
       "      <th>1998</th>\n",
       "      <td>4</td>\n",
       "    </tr>\n",
       "    <tr>\n",
       "      <th>1999</th>\n",
       "      <td>4</td>\n",
       "    </tr>\n",
       "    <tr>\n",
       "      <th>2000</th>\n",
       "      <td>7</td>\n",
       "    </tr>\n",
       "    <tr>\n",
       "      <th>2001</th>\n",
       "      <td>3</td>\n",
       "    </tr>\n",
       "    <tr>\n",
       "      <th>2002</th>\n",
       "      <td>3</td>\n",
       "    </tr>\n",
       "    <tr>\n",
       "      <th>2003</th>\n",
       "      <td>2</td>\n",
       "    </tr>\n",
       "    <tr>\n",
       "      <th>2004</th>\n",
       "      <td>8</td>\n",
       "    </tr>\n",
       "    <tr>\n",
       "      <th>2005</th>\n",
       "      <td>6</td>\n",
       "    </tr>\n",
       "    <tr>\n",
       "      <th>2006</th>\n",
       "      <td>8</td>\n",
       "    </tr>\n",
       "    <tr>\n",
       "      <th>2007</th>\n",
       "      <td>7</td>\n",
       "    </tr>\n",
       "    <tr>\n",
       "      <th>2008</th>\n",
       "      <td>9</td>\n",
       "    </tr>\n",
       "    <tr>\n",
       "      <th>2009</th>\n",
       "      <td>12</td>\n",
       "    </tr>\n",
       "    <tr>\n",
       "      <th>2010</th>\n",
       "      <td>9</td>\n",
       "    </tr>\n",
       "    <tr>\n",
       "      <th>2011</th>\n",
       "      <td>7</td>\n",
       "    </tr>\n",
       "    <tr>\n",
       "      <th>2012</th>\n",
       "      <td>7</td>\n",
       "    </tr>\n",
       "    <tr>\n",
       "      <th>2013</th>\n",
       "      <td>5</td>\n",
       "    </tr>\n",
       "    <tr>\n",
       "      <th>2014</th>\n",
       "      <td>6</td>\n",
       "    </tr>\n",
       "    <tr>\n",
       "      <th>2015</th>\n",
       "      <td>6</td>\n",
       "    </tr>\n",
       "    <tr>\n",
       "      <th>2016</th>\n",
       "      <td>4</td>\n",
       "    </tr>\n",
       "    <tr>\n",
       "      <th>2017</th>\n",
       "      <td>1</td>\n",
       "    </tr>\n",
       "  </tbody>\n",
       "</table>\n",
       "</div>"
      ],
      "text/plain": [
       "      character\n",
       "year           \n",
       "1971          1\n",
       "1980          2\n",
       "1981          3\n",
       "1982          7\n",
       "1983         18\n",
       "1984         16\n",
       "1985         22\n",
       "1986         18\n",
       "1987          9\n",
       "1988          7\n",
       "1989         10\n",
       "1990         15\n",
       "1991          6\n",
       "1992          3\n",
       "1993          5\n",
       "1994          5\n",
       "1995          5\n",
       "1996          3\n",
       "1997          2\n",
       "1998          4\n",
       "1999          4\n",
       "2000          7\n",
       "2001          3\n",
       "2002          3\n",
       "2003          2\n",
       "2004          8\n",
       "2005          6\n",
       "2006          8\n",
       "2007          7\n",
       "2008          9\n",
       "2009         12\n",
       "2010          9\n",
       "2011          7\n",
       "2012          7\n",
       "2013          5\n",
       "2014          6\n",
       "2015          6\n",
       "2016          4\n",
       "2017          1"
      ]
     },
     "execution_count": 118,
     "metadata": {},
     "output_type": "execute_result"
    }
   ],
   "source": [
    "cast[(cast['name'] == 'Mammootty')].groupby('year').agg({'character':'count'})"
   ]
  },
  {
   "cell_type": "markdown",
   "id": "a4131f39-1a81-45eb-b30f-2823040fd4ea",
   "metadata": {},
   "source": [
    "## What are the 10 most frequent roles that start with the phrase \"Patron in\"?"
   ]
  },
  {
   "cell_type": "code",
   "execution_count": 126,
   "id": "0eacb67c-ec72-4f2a-8509-c9d1e2d87f52",
   "metadata": {},
   "outputs": [
    {
     "data": {
      "text/html": [
       "<div>\n",
       "<style scoped>\n",
       "    .dataframe tbody tr th:only-of-type {\n",
       "        vertical-align: middle;\n",
       "    }\n",
       "\n",
       "    .dataframe tbody tr th {\n",
       "        vertical-align: top;\n",
       "    }\n",
       "\n",
       "    .dataframe thead th {\n",
       "        text-align: right;\n",
       "    }\n",
       "</style>\n",
       "<table border=\"1\" class=\"dataframe\">\n",
       "  <thead>\n",
       "    <tr style=\"text-align: right;\">\n",
       "      <th></th>\n",
       "      <th>year</th>\n",
       "    </tr>\n",
       "    <tr>\n",
       "      <th>character</th>\n",
       "      <th></th>\n",
       "    </tr>\n",
       "  </thead>\n",
       "  <tbody>\n",
       "    <tr>\n",
       "      <th>Patron in Frisky Rabbit</th>\n",
       "      <td>16</td>\n",
       "    </tr>\n",
       "    <tr>\n",
       "      <th>Patron in the Coffee House</th>\n",
       "      <td>9</td>\n",
       "    </tr>\n",
       "    <tr>\n",
       "      <th>Patron in Chinese Restaurant</th>\n",
       "      <td>9</td>\n",
       "    </tr>\n",
       "    <tr>\n",
       "      <th>Patron in Billiard Parlor</th>\n",
       "      <td>5</td>\n",
       "    </tr>\n",
       "    <tr>\n",
       "      <th>Patron in Bar</th>\n",
       "      <td>4</td>\n",
       "    </tr>\n",
       "    <tr>\n",
       "      <th>Patron in restaurant</th>\n",
       "      <td>4</td>\n",
       "    </tr>\n",
       "    <tr>\n",
       "      <th>Patron in Club</th>\n",
       "      <td>3</td>\n",
       "    </tr>\n",
       "    <tr>\n",
       "      <th>Patron in Restaurant</th>\n",
       "      <td>3</td>\n",
       "    </tr>\n",
       "    <tr>\n",
       "      <th>Patron in cabaret</th>\n",
       "      <td>3</td>\n",
       "    </tr>\n",
       "    <tr>\n",
       "      <th>Patron in Audience</th>\n",
       "      <td>2</td>\n",
       "    </tr>\n",
       "  </tbody>\n",
       "</table>\n",
       "</div>"
      ],
      "text/plain": [
       "                              year\n",
       "character                         \n",
       "Patron in Frisky Rabbit         16\n",
       "Patron in the Coffee House       9\n",
       "Patron in Chinese Restaurant     9\n",
       "Patron in Billiard Parlor        5\n",
       "Patron in Bar                    4\n",
       "Patron in restaurant             4\n",
       "Patron in Club                   3\n",
       "Patron in Restaurant             3\n",
       "Patron in cabaret                3\n",
       "Patron in Audience               2"
      ]
     },
     "execution_count": 126,
     "metadata": {},
     "output_type": "execute_result"
    }
   ],
   "source": [
    "cast[(cast['character'].str.contains('Patron in'))].groupby('character').agg({'year':'count'}).sort_values('year',ascending=False).head(10)"
   ]
  },
  {
   "cell_type": "markdown",
   "id": "a484d46e-0734-471b-88a1-776d7ddcab6e",
   "metadata": {},
   "source": [
    "## What are the 10 most frequent roles that start with the word \"Science\"?"
   ]
  },
  {
   "cell_type": "code",
   "execution_count": 127,
   "id": "7d3618c4-689b-42b0-bcb5-ab86eedae424",
   "metadata": {},
   "outputs": [
    {
     "data": {
      "text/html": [
       "<div>\n",
       "<style scoped>\n",
       "    .dataframe tbody tr th:only-of-type {\n",
       "        vertical-align: middle;\n",
       "    }\n",
       "\n",
       "    .dataframe tbody tr th {\n",
       "        vertical-align: top;\n",
       "    }\n",
       "\n",
       "    .dataframe thead th {\n",
       "        text-align: right;\n",
       "    }\n",
       "</style>\n",
       "<table border=\"1\" class=\"dataframe\">\n",
       "  <thead>\n",
       "    <tr style=\"text-align: right;\">\n",
       "      <th></th>\n",
       "      <th>year</th>\n",
       "    </tr>\n",
       "    <tr>\n",
       "      <th>character</th>\n",
       "      <th></th>\n",
       "    </tr>\n",
       "  </thead>\n",
       "  <tbody>\n",
       "    <tr>\n",
       "      <th>Science Teacher</th>\n",
       "      <td>60</td>\n",
       "    </tr>\n",
       "    <tr>\n",
       "      <th>The Science Fair Contestants &amp; Families</th>\n",
       "      <td>9</td>\n",
       "    </tr>\n",
       "    <tr>\n",
       "      <th>Science Fair Student</th>\n",
       "      <td>9</td>\n",
       "    </tr>\n",
       "    <tr>\n",
       "      <th>Science Student</th>\n",
       "      <td>9</td>\n",
       "    </tr>\n",
       "    <tr>\n",
       "      <th>Science Fair Judge</th>\n",
       "      <td>6</td>\n",
       "    </tr>\n",
       "    <tr>\n",
       "      <th>Science Club Member</th>\n",
       "      <td>5</td>\n",
       "    </tr>\n",
       "    <tr>\n",
       "      <th>Science Kid</th>\n",
       "      <td>5</td>\n",
       "    </tr>\n",
       "    <tr>\n",
       "      <th>Science Promo Cadet</th>\n",
       "      <td>5</td>\n",
       "    </tr>\n",
       "    <tr>\n",
       "      <th>Science Reporter</th>\n",
       "      <td>5</td>\n",
       "    </tr>\n",
       "    <tr>\n",
       "      <th>Science</th>\n",
       "      <td>4</td>\n",
       "    </tr>\n",
       "  </tbody>\n",
       "</table>\n",
       "</div>"
      ],
      "text/plain": [
       "                                         year\n",
       "character                                    \n",
       "Science Teacher                            60\n",
       "The Science Fair Contestants & Families     9\n",
       "Science Fair Student                        9\n",
       "Science Student                             9\n",
       "Science Fair Judge                          6\n",
       "Science Club Member                         5\n",
       "Science Kid                                 5\n",
       "Science Promo Cadet                         5\n",
       "Science Reporter                            5\n",
       "Science                                     4"
      ]
     },
     "execution_count": 127,
     "metadata": {},
     "output_type": "execute_result"
    }
   ],
   "source": [
    "cast[(cast['character'].str.contains('Science'))].groupby('character').agg({'year':'count'}).sort_values('year',ascending=False).head(10)"
   ]
  },
  {
   "cell_type": "markdown",
   "id": "94934a44-81b7-4859-a111-2f81d5cb0687",
   "metadata": {},
   "source": [
    "## Count number of n-values of the roles that Judi Dench has played over her career."
   ]
  },
  {
   "cell_type": "code",
   "execution_count": 130,
   "id": "4e3a6213-43f1-49e7-a8db-eaaa371be98d",
   "metadata": {},
   "outputs": [
    {
     "data": {
      "text/plain": [
       "48"
      ]
     },
     "execution_count": 130,
     "metadata": {},
     "output_type": "execute_result"
    }
   ],
   "source": [
    "cast[(cast['name'] == 'Judi Dench')].n.count()"
   ]
  },
  {
   "cell_type": "markdown",
   "id": "a5f55e76-cd07-496e-a51d-2504d0e5a76a",
   "metadata": {},
   "source": [
    "## Count number of n-values of Cary Grant's roles through his career."
   ]
  },
  {
   "cell_type": "code",
   "execution_count": 131,
   "id": "b727ebd5-e88b-4a96-abd4-081b404b1a62",
   "metadata": {},
   "outputs": [
    {
     "data": {
      "text/plain": [
       "75"
      ]
     },
     "execution_count": 131,
     "metadata": {},
     "output_type": "execute_result"
    }
   ],
   "source": [
    "cast[(cast['name'] == 'Cary Grant')].n.count()"
   ]
  },
  {
   "cell_type": "markdown",
   "id": "99cad336-71cc-4a4a-a014-665b0046bfdd",
   "metadata": {},
   "source": [
    "## Count number of n-value of the roles that Sidney Poitier has acted over the years."
   ]
  },
  {
   "cell_type": "code",
   "execution_count": 132,
   "id": "8c867be8-725c-4ea6-9989-da676a7592da",
   "metadata": {},
   "outputs": [
    {
     "data": {
      "text/plain": [
       "42"
      ]
     },
     "execution_count": 132,
     "metadata": {},
     "output_type": "execute_result"
    }
   ],
   "source": [
    "cast[(cast['name'] == 'Sidney Poitier')].n.count()"
   ]
  },
  {
   "cell_type": "markdown",
   "id": "5718b4ed-d2e7-4bd1-943a-e696b7741fe5",
   "metadata": {},
   "source": [
    "## How many leading (n=1) roles were available to actors, and how many to actresses, in the 1950s?"
   ]
  },
  {
   "cell_type": "code",
   "execution_count": 146,
   "id": "45cc7a41-cd54-4bce-9a2b-182f27e33667",
   "metadata": {},
   "outputs": [
    {
     "name": "stdout",
     "output_type": "stream",
     "text": [
      "There were 6616 leading roles for actors in the 1950s and 2965 leading roles for actresses in the 1950s.\n"
     ]
    }
   ],
   "source": [
    "actors = cast[(cast['type'] == 'actor') & (cast['n'] == 1.0)].groupby('decade').title.count().iloc[5]\n",
    "actresses = cast[(cast['type'] == 'actress') & (cast['n'] == 1.0)].groupby('decade').title.count().iloc[5]\n",
    "\n",
    "print(f'There were {actors} leading roles for actors in the 1950s and {actresses} leading roles for actresses in the 1950s.')"
   ]
  },
  {
   "cell_type": "markdown",
   "id": "742580d8-f6e9-412c-b74d-e5db1b668581",
   "metadata": {},
   "source": [
    "## How many supporting (n=2) roles were available to actors, and how many to actresses, in the 1950s?"
   ]
  },
  {
   "cell_type": "code",
   "execution_count": null,
   "id": "c2ee8201-6eec-47de-b35a-217864b5749b",
   "metadata": {},
   "outputs": [],
   "source": [
    "actors_2 = cast[(cast['type'] == 'actor') & (cast['n'] == 1.0)].groupby('decade').title.count().iloc[5]\n",
    "actresses_2 = cast[(cast['type'] == 'actress') & (cast['n'] == 1.0)].groupby('decade').title.count().iloc[5]\n",
    "\n",
    "print(f'There were {actors} leading roles for actors in the 1950s and {actresses} leading roles for actresses in the 1950s.')"
   ]
  }
 ],
 "metadata": {
  "kernelspec": {
   "display_name": "Python 3 (ipykernel)",
   "language": "python",
   "name": "python3"
  },
  "language_info": {
   "codemirror_mode": {
    "name": "ipython",
    "version": 3
   },
   "file_extension": ".py",
   "mimetype": "text/x-python",
   "name": "python",
   "nbconvert_exporter": "python",
   "pygments_lexer": "ipython3",
   "version": "3.9.12"
  }
 },
 "nbformat": 4,
 "nbformat_minor": 5
}
