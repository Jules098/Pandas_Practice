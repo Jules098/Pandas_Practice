{
 "cells": [
  {
   "cell_type": "code",
   "execution_count": 66,
   "id": "929123c3-b8f4-453e-9993-20e74e62a8f9",
   "metadata": {},
   "outputs": [],
   "source": [
    "import pandas as pd\n",
    "import numpy as np\n",
    "import matplotlib.pyplot as plt\n",
    "import seaborn as sns"
   ]
  },
  {
   "cell_type": "markdown",
   "id": "1fe999a7-326d-42cc-83f3-0f6c8f92760b",
   "metadata": {},
   "source": [
    "## Download the Data"
   ]
  },
  {
   "cell_type": "code",
   "execution_count": 2,
   "id": "f8210fd4-921a-460d-8abf-099b5556e98d",
   "metadata": {},
   "outputs": [
    {
     "data": {
      "text/html": [
       "<div>\n",
       "<style scoped>\n",
       "    .dataframe tbody tr th:only-of-type {\n",
       "        vertical-align: middle;\n",
       "    }\n",
       "\n",
       "    .dataframe tbody tr th {\n",
       "        vertical-align: top;\n",
       "    }\n",
       "\n",
       "    .dataframe thead th {\n",
       "        text-align: right;\n",
       "    }\n",
       "</style>\n",
       "<table border=\"1\" class=\"dataframe\">\n",
       "  <thead>\n",
       "    <tr style=\"text-align: right;\">\n",
       "      <th></th>\n",
       "      <th>title</th>\n",
       "      <th>year</th>\n",
       "    </tr>\n",
       "  </thead>\n",
       "  <tbody>\n",
       "    <tr>\n",
       "      <th>0</th>\n",
       "      <td>The Rising Son</td>\n",
       "      <td>1990</td>\n",
       "    </tr>\n",
       "    <tr>\n",
       "      <th>1</th>\n",
       "      <td>The Thousand Plane Raid</td>\n",
       "      <td>1969</td>\n",
       "    </tr>\n",
       "    <tr>\n",
       "      <th>2</th>\n",
       "      <td>Crucea de piatra</td>\n",
       "      <td>1993</td>\n",
       "    </tr>\n",
       "    <tr>\n",
       "      <th>3</th>\n",
       "      <td>Country</td>\n",
       "      <td>2000</td>\n",
       "    </tr>\n",
       "    <tr>\n",
       "      <th>4</th>\n",
       "      <td>Gaiking II</td>\n",
       "      <td>2011</td>\n",
       "    </tr>\n",
       "  </tbody>\n",
       "</table>\n",
       "</div>"
      ],
      "text/plain": [
       "                     title  year\n",
       "0           The Rising Son  1990\n",
       "1  The Thousand Plane Raid  1969\n",
       "2         Crucea de piatra  1993\n",
       "3                  Country  2000\n",
       "4               Gaiking II  2011"
      ]
     },
     "execution_count": 2,
     "metadata": {},
     "output_type": "execute_result"
    }
   ],
   "source": [
    "titles = pd.read_csv('titles.csv', index_col=None)\n",
    "titles.head()"
   ]
  },
  {
   "cell_type": "code",
   "execution_count": 3,
   "id": "2e2f90a6-2506-40db-a05c-11590a151a09",
   "metadata": {},
   "outputs": [
    {
     "data": {
      "text/html": [
       "<div>\n",
       "<style scoped>\n",
       "    .dataframe tbody tr th:only-of-type {\n",
       "        vertical-align: middle;\n",
       "    }\n",
       "\n",
       "    .dataframe tbody tr th {\n",
       "        vertical-align: top;\n",
       "    }\n",
       "\n",
       "    .dataframe thead th {\n",
       "        text-align: right;\n",
       "    }\n",
       "</style>\n",
       "<table border=\"1\" class=\"dataframe\">\n",
       "  <thead>\n",
       "    <tr style=\"text-align: right;\">\n",
       "      <th></th>\n",
       "      <th>title</th>\n",
       "      <th>year</th>\n",
       "      <th>name</th>\n",
       "      <th>type</th>\n",
       "      <th>character</th>\n",
       "      <th>n</th>\n",
       "    </tr>\n",
       "  </thead>\n",
       "  <tbody>\n",
       "    <tr>\n",
       "      <th>0</th>\n",
       "      <td>Closet Monster</td>\n",
       "      <td>2015</td>\n",
       "      <td>Buffy #1</td>\n",
       "      <td>actor</td>\n",
       "      <td>Buffy 4</td>\n",
       "      <td>NaN</td>\n",
       "    </tr>\n",
       "    <tr>\n",
       "      <th>1</th>\n",
       "      <td>Suuri illusioni</td>\n",
       "      <td>1985</td>\n",
       "      <td>Homo $</td>\n",
       "      <td>actor</td>\n",
       "      <td>Guests</td>\n",
       "      <td>22.0</td>\n",
       "    </tr>\n",
       "    <tr>\n",
       "      <th>2</th>\n",
       "      <td>Battle of the Sexes</td>\n",
       "      <td>2017</td>\n",
       "      <td>$hutter</td>\n",
       "      <td>actor</td>\n",
       "      <td>Bobby Riggs Fan</td>\n",
       "      <td>10.0</td>\n",
       "    </tr>\n",
       "    <tr>\n",
       "      <th>3</th>\n",
       "      <td>Secret in Their Eyes</td>\n",
       "      <td>2015</td>\n",
       "      <td>$hutter</td>\n",
       "      <td>actor</td>\n",
       "      <td>2002 Dodger Fan</td>\n",
       "      <td>NaN</td>\n",
       "    </tr>\n",
       "    <tr>\n",
       "      <th>4</th>\n",
       "      <td>Steve Jobs</td>\n",
       "      <td>2015</td>\n",
       "      <td>$hutter</td>\n",
       "      <td>actor</td>\n",
       "      <td>1988 Opera House Patron</td>\n",
       "      <td>NaN</td>\n",
       "    </tr>\n",
       "  </tbody>\n",
       "</table>\n",
       "</div>"
      ],
      "text/plain": [
       "                  title  year      name   type                character     n\n",
       "0        Closet Monster  2015  Buffy #1  actor                  Buffy 4   NaN\n",
       "1       Suuri illusioni  1985    Homo $  actor                   Guests  22.0\n",
       "2   Battle of the Sexes  2017   $hutter  actor          Bobby Riggs Fan  10.0\n",
       "3  Secret in Their Eyes  2015   $hutter  actor          2002 Dodger Fan   NaN\n",
       "4            Steve Jobs  2015   $hutter  actor  1988 Opera House Patron   NaN"
      ]
     },
     "execution_count": 3,
     "metadata": {},
     "output_type": "execute_result"
    }
   ],
   "source": [
    "cast = pd.read_csv('cast.csv', index_col=None)\n",
    "cast.head()"
   ]
  },
  {
   "cell_type": "markdown",
   "id": "b24acef3-dcfc-4ce3-b337-fe017878f5eb",
   "metadata": {},
   "source": [
    "## Using groupby(), count the number of films that have been released in each decade in the history of cinema."
   ]
  },
  {
   "cell_type": "code",
   "execution_count": 6,
   "id": "6e755e54-d6e6-4c46-b2b0-b159ab5a2b7c",
   "metadata": {},
   "outputs": [
    {
     "data": {
      "text/plain": [
       "decade\n",
       "1890          3\n",
       "1900         70\n",
       "1910      42604\n",
       "1920      71472\n",
       "1930     199058\n",
       "1940     211842\n",
       "1950     211470\n",
       "1960     187069\n",
       "1970     215147\n",
       "1980     283194\n",
       "1990     381806\n",
       "2000     746571\n",
       "2010    1083959\n",
       "2020        202\n",
       "Name: title, dtype: int64"
      ]
     },
     "execution_count": 6,
     "metadata": {},
     "output_type": "execute_result"
    }
   ],
   "source": [
    "# First, create a new column called 'decade' in which the years are grouped into decades\n",
    "\n",
    "cast['decade'] = (10 * (cast['year'] // 10))\n",
    "\n",
    "# Then, groupby by new column 'decade' and get the total title count.\n",
    "\n",
    "cast.groupby('decade').title.count()"
   ]
  },
  {
   "cell_type": "markdown",
   "id": "9f4ff615-8548-4fda-8475-9e42c73eb4fa",
   "metadata": {},
   "source": [
    "## Use groupby() count the number of \"Hamlet\" films made in each decade."
   ]
  },
  {
   "cell_type": "code",
   "execution_count": 9,
   "id": "1400d2e1-0a1f-496d-825a-f94028bd5d17",
   "metadata": {},
   "outputs": [
    {
     "name": "stdout",
     "output_type": "stream",
     "text": [
      "decade\n",
      "1910    28\n",
      "1920     9\n",
      "1940    24\n",
      "1950     1\n",
      "1960    57\n",
      "1970    19\n",
      "1980     3\n",
      "1990    83\n",
      "2000    55\n",
      "2010    34\n",
      "Name: title, dtype: int64\n"
     ]
    },
    {
     "data": {
      "text/plain": [
       "<AxesSubplot: xlabel='decade'>"
      ]
     },
     "execution_count": 9,
     "metadata": {},
     "output_type": "execute_result"
    },
    {
     "data": {
      "image/png": "[encoded data removed]",
      "text/plain": [
       "<Figure size 640x480 with 1 Axes>"
      ]
     },
     "metadata": {},
     "output_type": "display_data"
    }
   ],
   "source": [
    "# Filter df for movies titled 'Hamlet'. Groupby decade. Get title counts.\n",
    "\n",
    "print(cast[(cast['title'] == 'Hamlet')].groupby('decade').title.count())\n",
    "\n",
    "# Plot for visualization purposes\n",
    "\n",
    "cast[(cast['title'] == 'Hamlet')].groupby('decade').title.count().plot()"
   ]
  },
  {
   "cell_type": "markdown",
   "id": "c2292c04-2f8f-4bdd-94d4-0fe26e068faf",
   "metadata": {},
   "source": [
    "## How many leading (n=1) roles were available to actors, and how many to actresses, in each year of the 1950s?"
   ]
  },
  {
   "cell_type": "code",
   "execution_count": 19,
   "id": "6f1d744d-f0c7-4dfc-91b3-f0e7c2a67d57",
   "metadata": {},
   "outputs": [
    {
     "name": "stdout",
     "output_type": "stream",
     "text": [
      "There were 6616 leading roles for actors and 2965 leading roles for actresses in the 1950s.\n"
     ]
    }
   ],
   "source": [
    "# Filter df for 'actor' & 'n' = 1. Groupby decade. Get title count and index to 5th position for 1950s.\n",
    "\n",
    "actors = cast[(cast['type'] == 'actor') & (cast['n'] == 1.0)].groupby('decade').title.count().iloc[5]\n",
    "\n",
    "# Filter df for 'actress' & 'n' = 1. Groupby decade. Get title count and index to 5th position for 1950s\n",
    "\n",
    "actresses = cast[(cast['type'] == 'actress') & (cast['n'] == 1.0)].groupby('decade').title.count().iloc[5]\n",
    "\n",
    "print(f'There were {actors} leading roles for actors and {actresses} leading roles for actresses in the 1950s.')"
   ]
  },
  {
   "cell_type": "markdown",
   "id": "28dc80e7-7b5e-449d-9a3f-0ae0bd360b4a",
   "metadata": {},
   "source": [
    "## In the 1950s taken as a whole, how many total roles were available to actors, and how many to actresses, for each \"n\" number 1 through 5?"
   ]
  },
  {
   "cell_type": "code",
   "execution_count": 24,
   "id": "45b1089d-cc91-4140-9bf1-dc535e56c2e8",
   "metadata": {},
   "outputs": [
    {
     "name": "stdout",
     "output_type": "stream",
     "text": [
      "There were 27972 roles between \"n\" numbers 1 through 5 available to actors in the 1950s and 16062 roles for actresses.\n"
     ]
    }
   ],
   "source": [
    "# Filter df for 'actor'. Filter again for all roles between n>=1 and n<6. Groupby decade, get title count\n",
    "\n",
    "actors_1 = cast[(cast['type'] == 'actor') & ((cast['n'] >= 1.0) & (cast['n'] < 6.0))\n",
    "               ].groupby('decade').title.count().iloc[5]\n",
    "\n",
    "actresses_1 = cast[(cast['type'] == 'actress') & ((cast['n'] >= 1.0) & (cast['n'] < 6.0))\n",
    "                  ].groupby('decade').title.count().iloc[5]\n",
    "\n",
    "print(f'There were {actors_1} roles between \"n\" numbers 1 through 5 available to actors in the 1950s and {actresses_1} roles for actresses.')"
   ]
  },
  {
   "cell_type": "markdown",
   "id": "321c1826-9f2d-4599-b697-da20e2e2386b",
   "metadata": {},
   "source": [
    "## Use groupby() to determine how many roles are listed for each of the Pink Panther movies."
   ]
  },
  {
   "cell_type": "code",
   "execution_count": 29,
   "id": "eec125c4-978e-4cfe-8c05-f0632a14f9ee",
   "metadata": {},
   "outputs": [
    {
     "data": {
      "text/plain": [
       "title\n",
       "Curse of the Pink Panther          67\n",
       "Revenge of the Pink Panther        64\n",
       "Son of the Pink Panther            46\n",
       "The Pink Panther                  111\n",
       "The Pink Panther 2                 84\n",
       "The Pink Panther Strikes Again     68\n",
       "The Return of the Pink Panther     30\n",
       "Trail of the Pink Panther          41\n",
       "Name: character, dtype: int64"
      ]
     },
     "execution_count": 29,
     "metadata": {},
     "output_type": "execute_result"
    }
   ],
   "source": [
    "# Filter for titles containing the name 'Pink Panther'. Groupby titles, and get the total character count.\n",
    "\n",
    "cast[(cast['title'].str.contains('Pink Panther'))].groupby('title').character.count()"
   ]
  },
  {
   "cell_type": "markdown",
   "id": "60a90986-5f80-41a6-845a-a5e49c1e17ce",
   "metadata": {},
   "source": [
    "## List, in order by year, each of the films in which Frank Oz has played more than 1 role."
   ]
  },
  {
   "cell_type": "code",
   "execution_count": 81,
   "id": "7b1b2f8b-3967-4e2a-a287-4ccb2150bc33",
   "metadata": {},
   "outputs": [
    {
     "data": {
      "text/html": [
       "<div>\n",
       "<style scoped>\n",
       "    .dataframe tbody tr th:only-of-type {\n",
       "        vertical-align: middle;\n",
       "    }\n",
       "\n",
       "    .dataframe tbody tr th {\n",
       "        vertical-align: top;\n",
       "    }\n",
       "\n",
       "    .dataframe thead th {\n",
       "        text-align: right;\n",
       "    }\n",
       "</style>\n",
       "<table border=\"1\" class=\"dataframe\">\n",
       "  <thead>\n",
       "    <tr style=\"text-align: right;\">\n",
       "      <th></th>\n",
       "      <th>year</th>\n",
       "      <th>title</th>\n",
       "    </tr>\n",
       "  </thead>\n",
       "  <tbody>\n",
       "    <tr>\n",
       "      <th>1672042</th>\n",
       "      <td>1979</td>\n",
       "      <td>The Muppet Movie</td>\n",
       "    </tr>\n",
       "    <tr>\n",
       "      <th>1671990</th>\n",
       "      <td>1981</td>\n",
       "      <td>An American Werewolf in London</td>\n",
       "    </tr>\n",
       "    <tr>\n",
       "      <th>1672027</th>\n",
       "      <td>1981</td>\n",
       "      <td>The Great Muppet Caper</td>\n",
       "    </tr>\n",
       "    <tr>\n",
       "      <th>1672020</th>\n",
       "      <td>1982</td>\n",
       "      <td>The Dark Crystal</td>\n",
       "    </tr>\n",
       "    <tr>\n",
       "      <th>1672049</th>\n",
       "      <td>1984</td>\n",
       "      <td>The Muppets Take Manhattan</td>\n",
       "    </tr>\n",
       "    <tr>\n",
       "      <th>1671993</th>\n",
       "      <td>1985</td>\n",
       "      <td>Follow That Bird</td>\n",
       "    </tr>\n",
       "    <tr>\n",
       "      <th>1672033</th>\n",
       "      <td>1992</td>\n",
       "      <td>The Muppet Christmas Carol</td>\n",
       "    </tr>\n",
       "    <tr>\n",
       "      <th>1672003</th>\n",
       "      <td>1996</td>\n",
       "      <td>Muppet Treasure Island</td>\n",
       "    </tr>\n",
       "    <tr>\n",
       "      <th>1672017</th>\n",
       "      <td>1999</td>\n",
       "      <td>The Adventures of Elmo in Grouchland</td>\n",
       "    </tr>\n",
       "    <tr>\n",
       "      <th>1672004</th>\n",
       "      <td>1999</td>\n",
       "      <td>Muppets from Space</td>\n",
       "    </tr>\n",
       "  </tbody>\n",
       "</table>\n",
       "</div>"
      ],
      "text/plain": [
       "         year                                 title\n",
       "1672042  1979                      The Muppet Movie\n",
       "1671990  1981        An American Werewolf in London\n",
       "1672027  1981                The Great Muppet Caper\n",
       "1672020  1982                      The Dark Crystal\n",
       "1672049  1984            The Muppets Take Manhattan\n",
       "1671993  1985                      Follow That Bird\n",
       "1672033  1992            The Muppet Christmas Carol\n",
       "1672003  1996                Muppet Treasure Island\n",
       "1672017  1999  The Adventures of Elmo in Grouchland\n",
       "1672004  1999                    Muppets from Space"
      ]
     },
     "execution_count": 81,
     "metadata": {},
     "output_type": "execute_result"
    }
   ],
   "source": [
    "# Filter df for name 'Frank Oz'. Groupby title, use filter function for where title has a length > 1.\n",
    "# Sort values by ascending order, drop duplicates.\n",
    "\n",
    "cast[(cast['name'] == 'Frank Oz')\n",
    "    ].groupby('title').filter(lambda x: len(x) > 1).sort_values('year')[['year', 'title']].drop_duplicates()"
   ]
  },
  {
   "cell_type": "markdown",
   "id": "2335c2b7-3e32-44ed-8dd2-5a15ab3298c1",
   "metadata": {},
   "source": [
    "## List each of the characters that Frank Oz has portrayed at least twice."
   ]
  },
  {
   "cell_type": "code",
   "execution_count": 77,
   "id": "189d658d-b37b-4c34-b4c5-0e41f410a6be",
   "metadata": {},
   "outputs": [
    {
     "data": {
      "text/plain": [
       "Miss Piggy        6\n",
       "Animal            6\n",
       "Yoda              6\n",
       "Sam the Eagle     5\n",
       "Fozzie Bear       4\n",
       "Cookie Monster    3\n",
       "Bert              3\n",
       "Grover            2\n",
       "Name: character, dtype: int64"
      ]
     },
     "execution_count": 77,
     "metadata": {},
     "output_type": "execute_result"
    }
   ],
   "source": [
    "# Filter df for 'Frank Oz'. Groupby 'character'. Use filter lambda function for characters that appear\n",
    "# more than once. Select the character column and get the value counts.\n",
    "\n",
    "cast[(cast['name'] == 'Frank Oz')\n",
    "    ].groupby('character').filter(lambda x: len(x) > 1).character.value_counts()"
   ]
  },
  {
   "cell_type": "code",
   "execution_count": null,
   "id": "1d4852e9-3082-491e-867a-5d0678dcc44b",
   "metadata": {},
   "outputs": [],
   "source": []
  }
 ],
 "metadata": {
  "kernelspec": {
   "display_name": "Python 3 (ipykernel)",
   "language": "python",
   "name": "python3"
  },
  "language_info": {
   "codemirror_mode": {
    "name": "ipython",
    "version": 3
   },
   "file_extension": ".py",
   "mimetype": "text/x-python",
   "name": "python",
   "nbconvert_exporter": "python",
   "pygments_lexer": "ipython3",
   "version": "3.9.12"
  }
 },
 "nbformat": 4,
 "nbformat_minor": 5
}
